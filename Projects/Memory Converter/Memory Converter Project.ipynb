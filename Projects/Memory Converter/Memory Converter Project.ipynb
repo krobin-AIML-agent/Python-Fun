{
 "cells": [
  {
   "cell_type": "markdown",
   "id": "f70948ec",
   "metadata": {},
   "source": [
    "**Memory Converter Project**"
   ]
  },
  {
   "cell_type": "code",
   "execution_count": 1,
   "id": "91618f8b",
   "metadata": {},
   "outputs": [
    {
     "name": "stdout",
     "output_type": "stream",
     "text": [
      "{'b': 8.0, 'B': 1.0, 'KB': 0.0, 'MB': 0.0, 'GB': 0.0, 'TB': 0.0}\n",
      "{'b': 8.0, 'B': 1.0, 'KB': 0.0, 'MB': 0.0, 'GB': 0.0, 'TB': 0.0}\n",
      "{'b': 17179869184.0, 'B': 2147483648.0, 'KB': 2097152.0, 'MB': 2048.0, 'GB': 2.0, 'TB': 0.0}\n"
     ]
    }
   ],
   "source": [
    "def memory_converter(value: float, unit: str):\n",
    "    # Note: b = bit, B = byte\n",
    "    units = {\n",
    "        \"b\": 1/8,         # bit = smallest, 1 bit = 1/8 of a byte\n",
    "        \"B\": 1,           # byte\n",
    "        \"KB\": 1024,       # kilobyte\n",
    "        \"MB\": 1024**2,    # megabyte\n",
    "        \"GB\": 1024**3,    # gigabyte\n",
    "        \"TB\": 1024**4     # terabyte (optional extension)\n",
    "    }\n",
    "\n",
    "    unit = unit.upper() if unit != \"b\" else unit  # keep lowercase 'b' for bits\n",
    "\n",
    "    if unit not in units:\n",
    "        raise ValueError(f\" Unknown unit '{unit}'. Valid units: {', '.join(units)}\")\n",
    "\n",
    "    # Convert everything to bytes first\n",
    "    bytes_value = value * units[unit]\n",
    "\n",
    "    results = {}\n",
    "    for k, v in units.items():\n",
    "        results[k] = round(bytes_value / v, 2)\n",
    "\n",
    "    return results\n",
    "\n",
    "print(memory_converter(1, \"B\"))   # from 1 Byte\n",
    "print(memory_converter(8, \"b\"))   # from 8 bits\n",
    "print(memory_converter(2, \"GB\"))  # from 2 Gigabytes"
   ]
  }
 ],
 "metadata": {
  "kernelspec": {
   "display_name": "Python 3",
   "language": "python",
   "name": "python3"
  },
  "language_info": {
   "codemirror_mode": {
    "name": "ipython",
    "version": 3
   },
   "file_extension": ".py",
   "mimetype": "text/x-python",
   "name": "python",
   "nbconvert_exporter": "python",
   "pygments_lexer": "ipython3",
   "version": "3.13.6"
  }
 },
 "nbformat": 4,
 "nbformat_minor": 5
}
