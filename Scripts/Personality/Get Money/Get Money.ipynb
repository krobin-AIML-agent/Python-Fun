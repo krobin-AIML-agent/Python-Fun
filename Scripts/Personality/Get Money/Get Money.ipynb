{
 "cells": [
  {
   "cell_type": "code",
   "execution_count": null,
   "id": "cec96796",
   "metadata": {},
   "outputs": [],
   "source": [
    "Munyun = int(input(\"How much money you got right now? \"))\n",
    "target = 100000\n",
    "\n",
    "if Munyun < target:\n",
    "    print(\"Go get some money!\")\n",
    "else:\n",
    "    print(\"Go get some money!\")\n",
    "\n",
    "\n",
    "\n",
    "\n"
   ]
  }
 ],
 "metadata": {
  "kernelspec": {
   "display_name": "Python 3",
   "language": "python",
   "name": "python3"
  },
  "language_info": {
   "codemirror_mode": {
    "name": "ipython",
    "version": 3
   },
   "file_extension": ".py",
   "mimetype": "text/x-python",
   "name": "python",
   "nbconvert_exporter": "python",
   "pygments_lexer": "ipython3",
   "version": "3.13.6"
  }
 },
 "nbformat": 4,
 "nbformat_minor": 5
}
