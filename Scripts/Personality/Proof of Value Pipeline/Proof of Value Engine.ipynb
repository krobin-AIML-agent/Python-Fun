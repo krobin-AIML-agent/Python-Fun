{
 "cells": [
  {
   "cell_type": "code",
   "execution_count": null,
   "id": "9d7688a5",
   "metadata": {},
   "outputs": [],
   "source": "def proof_of_value_binary():\n    print(\"Welcome to the Proof of Value Pipeline\\n\")\n\n    # Step 1: Customer Selection & Sequencing\n    print(\"--- Customer Selection ---\")\n    print(\"1. Post/Undergraduate Student\")  # Fresh out of College\n    print(\"2. Transitioning Professional\")  # Moving into Another Field\n    print(\"3. Business Professional Veteran\")  # Professional with Skin In the Game\n    print(\"4. Entrepreneur\")  # Gig Economy\n    print(\"5. Contract or Freelance\")  # Hybrid\n    \n    customer_type = input(\"Select customer type (1-5): \")\n    \n    # Route to appropriate metric style based on customer\n    abstract_skill_scraping = {\n        \"1\": {\"name\": \"Post/Undergraduate Student\", \"metrics\": [\"Project-based hours\", \"Academic projects\", \"Internship experience\"]},\n        \"2\": {\"name\": \"Transitioning Professional\", \"metrics\": [\"Transferable skills hours\", \"Cross-domain projects\", \"Certification progress\"]},\n        \"3\": {\"name\": \"Business Professional Veteran\", \"metrics\": [\"Billable hours\", \"Deliverables count\", \"Client testimonials\"]},\n        \"4\": {\"name\": \"Entrepreneur\", \"metrics\": [\"Revenue generated\", \"Business milestones\", \"Customer acquisition\"]},\n        \"5\": {\"name\": \"Contract or Freelance\", \"metrics\": [\"Contract hours\", \"Project deliverables\", \"Client portfolio\"]}\n    }\n\n    selected_route = abstract_skill_scraping.get(customer_type, abstract_skill_scraping[\"5\"])\n    print(f\"\\n✓ Selected: {selected_route['name']}\")\n    print(f\"Available metrics: {', '.join(selected_route['metrics'])}\\n\")\n\n    # Step 2: Input\n    years = int(input(\"Enter your years of experience: \"))\n    if years <= 0:\n        return \"❌ Invalid input: No years provided\"\n    \n    total_hours = years * 2000\n    print(f\"Step 2: {years} years ≈ {total_hours} hours\")\n\n    drivers = input(\"List your key drivers (e.g., adaptability, curiosity, courage, initiative): \")\n\n    # Step 3: Process - Split Direct vs Indirect Work\n    print(\"\\n--- Work Distribution ---\")\n    direct_ratio = float(input(\"Direct work ratio (0-1, default=0.6): \") or 0.6)\n\n    # Calculate direct and indirect from total hours\n    direct_hours = direct_ratio * total_hours\n    indirect_ratio = 1 - direct_ratio\n    indirect_hours = indirect_ratio * total_hours\n\n    print(f\"Step 3a: Direct work = {direct_hours:.0f} hrs ({direct_ratio*100:.0f}% of total)\")\n    print(f\"Step 3b: Indirect work = {indirect_hours:.0f} hrs ({indirect_ratio*100:.0f}% of total)\")\n    print(f\"Total accounted hours: {direct_hours + indirect_hours:.0f} hrs\")\n\n    # Optional: Parametric validation for indirect work\n    validate = input(\"\\nValidate indirect hours with parametric estimate? (y/n): \").lower()\n    if validate == \"y\":\n        print(\"--- Parametric Validation ---\")\n        hours_per_week = float(input(\"Current hours per week on indirect work: \"))\n        weeks_per_month = float(input(\"Weeks per month (typically 4-4.3): \") or 4)\n\n        monthly_hours = hours_per_week * weeks_per_month\n        annual_parametric = monthly_hours * 12\n        lifetime_parametric = annual_parametric * years\n\n        print(f\"Parametric estimate: {lifetime_parametric:.0f} hrs over {years} years\")\n        print(f\"Original indirect: {indirect_hours:.0f} hrs\")\n\n        use_parametric = input(\"Use parametric estimate instead? (y/n): \").lower()\n        if use_parametric == \"y\":\n            indirect_hours = lifetime_parametric\n            print(f\"Updated indirect hours to {indirect_hours:.0f} hrs\")\n\n    # Step 4: Checkpoint (routed by customer type)\n    print(f\"\\n--- Proof Validation ({selected_route['name']} route) ---\")\n    proof_direct = input(\"Direct proof exists? (y/n): \").lower() == \"y\"\n    if not proof_direct:\n        print(\"⚠️  Build a Portfolio\")\n    else:\n        print(\"✓ Keep Building\")\n    \n    proof_indirect = input(\"Indirect proof exists? (y/n): \").lower() == \"y\"\n\n    proof_nodes = int(proof_direct) + int(proof_indirect)\n\n    # Step 5: Binary decision\n    total_verified_hours = (direct_hours if proof_direct else 0) + (indirect_hours if proof_indirect else 0)\n    \n    if proof_nodes >= 1:\n        return f\"✅ Proof of Value Achieved ({proof_nodes} proof nodes)\\n   Customer: {selected_route['name']}\\n   Total verified: {total_verified_hours:.0f} hrs\\n   Drivers: {drivers}\"\n    else:\n        return \"❌ No proof → Loop back and refine\"\n\n\nprint(proof_of_value_binary())"
  }
 ],
 "metadata": {
  "kernelspec": {
   "display_name": "Python 3",
   "language": "python",
   "name": "python3"
  },
  "language_info": {
   "codemirror_mode": {
    "name": "ipython",
    "version": 3
   },
   "file_extension": ".py",
   "mimetype": "text/x-python",
   "name": "python",
   "nbconvert_exporter": "python",
   "pygments_lexer": "ipython3",
   "version": "3.13.6"
  }
 },
 "nbformat": 4,
 "nbformat_minor": 5
}