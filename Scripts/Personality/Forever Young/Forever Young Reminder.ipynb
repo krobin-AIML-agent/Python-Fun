{
 "cells": [
  {
   "cell_type": "code",
   "execution_count": null,
   "id": "739fe05b",
   "metadata": {},
   "outputs": [],
   "source": [
    "def forever_young():\n",
    "    \"\"\"\n",
    "    Forever Young Logic:\n",
    "    - User inputs age\n",
    "    - If age > 30 → mask it as 30\n",
    "    - Path A: 30 - 9 = 21\n",
    "    - Path B: 20 + 1 = 21\n",
    "    \"\"\"\n",
    "    pivot = 30\n",
    "    \n",
    "    # Step 1: user input\n",
    "    age = int(input(\"Enter your age: \"))\n",
    "    \n",
    "    # Step 2: mask anything over 30 as 30\n",
    "    if age > pivot:\n",
    "        print(f\"Age masked as {pivot} for calculation purposes.\")\n",
    "        age = pivot\n",
    "    \n",
    "    # Step 3: choose path\n",
    "    choice = input(\"Choose your path (A or B): \").strip().lower()\n",
    "    \n",
    "    if choice == \"a\":\n",
    "        path_a = pivot - 9\n",
    "        print(f\"Path A chosen → {path_a}. You are forever young!\")\n",
    "    elif choice == \"b\":\n",
    "        path_b = 20 + 1\n",
    "        print(f\"Path B chosen → {path_b}. You are forever young!\")\n",
    "    else:\n",
    "        print(\"Invalid choice! Please choose A or B.\")\n",
    "        return\n",
    "    \n",
    "    # Step 4: closing message\n",
    "    print(\"Thank you for playing. Life is hard. Remember to keep your youth. ✨\")\n",
    "    \n",
    "# Example run\n",
    "forever_young()\n",
    "\n"
   ]
  }
 ],
 "metadata": {
  "kernelspec": {
   "display_name": "Python 3",
   "language": "python",
   "name": "python3"
  },
  "language_info": {
   "codemirror_mode": {
    "name": "ipython",
    "version": 3
   },
   "file_extension": ".py",
   "mimetype": "text/x-python",
   "name": "python",
   "nbconvert_exporter": "python",
   "pygments_lexer": "ipython3",
   "version": "3.13.6"
  }
 },
 "nbformat": 4,
 "nbformat_minor": 5
}
