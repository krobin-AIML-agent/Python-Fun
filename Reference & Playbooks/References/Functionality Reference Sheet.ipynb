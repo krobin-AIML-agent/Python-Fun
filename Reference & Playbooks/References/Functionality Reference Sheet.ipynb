{
 "cells": [
  {
   "cell_type": "markdown",
   "id": "404c17d2",
   "metadata": {},
   "source": [
    "### FUNCTIONALITY REFERENCE SHEET"
   ]
  },
  {
   "cell_type": "markdown",
   "id": "12032380",
   "metadata": {},
   "source": [
    "## Handy Functions"
   ]
  },
  {
   "cell_type": "code",
   "execution_count": 9,
   "id": "d8a6440d",
   "metadata": {},
   "outputs": [
    {
     "name": "stdout",
     "output_type": "stream",
     "text": [
      "Tevin is Great\n"
     ]
    }
   ],
   "source": [
    "print('Tevin is Great')"
   ]
  },
  {
   "cell_type": "code",
   "execution_count": 10,
   "id": "ea86c1c5",
   "metadata": {},
   "outputs": [
    {
     "data": {
      "text/plain": [
       "'My name is: Kevin'"
      ]
     },
     "execution_count": 10,
     "metadata": {},
     "output_type": "execute_result"
    }
   ],
   "source": [
    "# Use string formatting (\"f-strings\") to insert values\n",
    "name = 'Kevin'\n",
    "f'My name is: {name}'"
   ]
  },
  {
   "cell_type": "markdown",
   "id": "317c910e",
   "metadata": {},
   "source": [
    "**Range**"
   ]
  },
  {
   "cell_type": "code",
   "execution_count": 11,
   "id": "3037cafc",
   "metadata": {},
   "outputs": [
    {
     "data": {
      "text/plain": [
       "range(0, 10, 2)"
      ]
     },
     "execution_count": 11,
     "metadata": {},
     "output_type": "execute_result"
    }
   ],
   "source": [
    "# An iterable object containing sequential integers\n",
    "range(0, 10)\n",
    "\n",
    "# Iterate by steps of 2\n",
    "range(0, 10, 2)"
   ]
  },
  {
   "cell_type": "markdown",
   "id": "a39e9280",
   "metadata": {},
   "source": [
    "**Type**"
   ]
  },
  {
   "cell_type": "code",
   "execution_count": 12,
   "id": "a62f5b8e",
   "metadata": {},
   "outputs": [
    {
     "data": {
      "text/plain": [
       "int"
      ]
     },
     "execution_count": 12,
     "metadata": {},
     "output_type": "execute_result"
    }
   ],
   "source": [
    "# Returns the datatype of the value inserted\n",
    "type(1)"
   ]
  },
  {
   "cell_type": "markdown",
   "id": "756d52db",
   "metadata": {},
   "source": [
    "## Arithmetic & Print Lines"
   ]
  },
  {
   "cell_type": "markdown",
   "id": "cf3748a5",
   "metadata": {},
   "source": [
    "**Basic arithmetic operations in Python**"
   ]
  },
  {
   "cell_type": "code",
   "execution_count": 13,
   "id": "84e7cdd3",
   "metadata": {},
   "outputs": [
    {
     "name": "stdout",
     "output_type": "stream",
     "text": [
      "5\n",
      "1\n",
      "1000\n",
      "2\n",
      "2.5\n",
      "3\n",
      "7\n",
      "10\n",
      "25\n"
     ]
    }
   ],
   "source": [
    "### Basic arithmetic operations in Python\n",
    "x= 2 + 3  # Addition\n",
    "print (x)\n",
    "print (x % 2)  # Modulus\n",
    "print ((x*2) ** 3)  # Exponentiation\n",
    "print (x // 2)  # Floor division\n",
    "print (x / 2)  # Division\n",
    "print (x - 2)  # Subtraction\n",
    "print (x + 2)  # Addition\n",
    "print (x * 2)  # Multiplication\n",
    "print (x ** 2)  # Exponentiation    "
   ]
  },
  {
   "cell_type": "markdown",
   "id": "6dce8336",
   "metadata": {},
   "source": [
    "**Multi-line Text**"
   ]
  },
  {
   "cell_type": "code",
   "execution_count": 14,
   "id": "65993455",
   "metadata": {},
   "outputs": [
    {
     "name": "stdout",
     "output_type": "stream",
     "text": [
      "My Name is Kevin Robinson\n",
      "      I am 5'10 tall\n",
      "      I am 28 years old. I just started learning Python\n",
      "        and I am excited to learn more!\n"
     ]
    }
   ],
   "source": [
    "## \"\"\"Means Multi Line Text\"\"\"\n",
    "\n",
    "print(\"\"\"My Name is Kevin Robinson\n",
    "      I am 5'10 tall\n",
    "      I am 28 years old. I just started learning Python\n",
    "        and I am excited to learn more!\"\"\")"
   ]
  },
  {
   "cell_type": "markdown",
   "id": "a6aaef73",
   "metadata": {},
   "source": [
    "## Data Types"
   ]
  },
  {
   "cell_type": "code",
   "execution_count": 15,
   "id": "69768f97",
   "metadata": {},
   "outputs": [
    {
     "data": {
      "text/plain": [
       "int"
      ]
     },
     "execution_count": 15,
     "metadata": {},
     "output_type": "execute_result"
    }
   ],
   "source": [
    "# Integers\n",
    "x = 1 # whole numbers\n",
    "type(x)"
   ]
  },
  {
   "cell_type": "code",
   "execution_count": 16,
   "id": "1f357af7",
   "metadata": {},
   "outputs": [
    {
     "data": {
      "text/plain": [
       "float"
      ]
     },
     "execution_count": 16,
     "metadata": {},
     "output_type": "execute_result"
    }
   ],
   "source": [
    "# Floats\n",
    "x = 1.0 # decimal numbers\n",
    "type(x)"
   ]
  },
  {
   "cell_type": "code",
   "execution_count": 17,
   "id": "01001848",
   "metadata": {},
   "outputs": [
    {
     "data": {
      "text/plain": [
       "str"
      ]
     },
     "execution_count": 17,
     "metadata": {},
     "output_type": "execute_result"
    }
   ],
   "source": [
    "# Strings\n",
    "x = 'Ryan' # text\n",
    "type(x)"
   ]
  },
  {
   "cell_type": "code",
   "execution_count": 18,
   "id": "445dbda4",
   "metadata": {},
   "outputs": [
    {
     "data": {
      "text/plain": [
       "bool"
      ]
     },
     "execution_count": 18,
     "metadata": {},
     "output_type": "execute_result"
    }
   ],
   "source": [
    "# Booleans\n",
    "x = True # True or False\n",
    "type(x)"
   ]
  },
  {
   "cell_type": "code",
   "execution_count": 19,
   "id": "9cfe0f8f",
   "metadata": {},
   "outputs": [
    {
     "data": {
      "text/plain": [
       "bytes"
      ]
     },
     "execution_count": 19,
     "metadata": {},
     "output_type": "execute_result"
    }
   ],
   "source": [
    "# Byte data\n",
    "x = bytes(4)    # sequence of bytes\n",
    "type(x)"
   ]
  },
  {
   "cell_type": "markdown",
   "id": "aa110953",
   "metadata": {},
   "source": [
    "## Lists"
   ]
  },
  {
   "cell_type": "code",
   "execution_count": 20,
   "id": "be756f88",
   "metadata": {},
   "outputs": [
    {
     "data": {
      "text/plain": [
       "list"
      ]
     },
     "execution_count": 20,
     "metadata": {},
     "output_type": "execute_result"
    }
   ],
   "source": [
    "aList = [1,2,3,4] # Create a list of integers\n",
    "type(aList)"
   ]
  },
  {
   "cell_type": "code",
   "execution_count": 21,
   "id": "2b7d3cef",
   "metadata": {},
   "outputs": [
    {
     "data": {
      "text/plain": [
       "[1, 2, 3, 4, 5]"
      ]
     },
     "execution_count": 21,
     "metadata": {},
     "output_type": "execute_result"
    }
   ],
   "source": [
    "# Append item to a list\n",
    "aList.append(5) ## Append 5 to\n",
    "aList"
   ]
  },
  {
   "cell_type": "code",
   "execution_count": 22,
   "id": "28a5498d",
   "metadata": {},
   "outputs": [
    {
     "data": {
      "text/plain": [
       "[1, 2, 3, 4, 5, 6]"
      ]
     },
     "execution_count": 22,
     "metadata": {},
     "output_type": "execute_result"
    }
   ],
   "source": [
    "# List concatenation\n",
    "[1,2,3] + [4,5,6] ## Concatenate two lists"
   ]
  },
  {
   "cell_type": "code",
   "execution_count": 23,
   "id": "11587efc",
   "metadata": {},
   "outputs": [
    {
     "data": {
      "text/plain": [
       "[1, 2, 1, 2, 1, 2, 1, 2, 1, 2]"
      ]
     },
     "execution_count": 23,
     "metadata": {},
     "output_type": "execute_result"
    }
   ],
   "source": [
    "# List multiplication\n",
    "[1,2] * 5 ## Repeat the list 5 times"
   ]
  },
  {
   "cell_type": "code",
   "execution_count": 24,
   "id": "fae26759",
   "metadata": {},
   "outputs": [
    {
     "name": "stdout",
     "output_type": "stream",
     "text": [
      "5\n",
      "[1, 2, 3, 4]\n",
      "[1, 2, 3, 4]\n",
      "[5, 6, 7, 8, 9, 10]\n",
      "[1, 3, 5, 7, 9]\n",
      "[1, 4, 7, 10]\n"
     ]
    }
   ],
   "source": [
    "# Accessing items in a list\n",
    "\n",
    "aList = [1,2,3,4,5,6,7,8,9,10]\n",
    "# Print the item at index 4\n",
    "print(aList[4])\n",
    "\n",
    "# Print the items at index 0, up to (not including) index 4\n",
    "print(aList[0:4])\n",
    "\n",
    "# If the first index is missing, it's assumed to be 0\n",
    "print(aList[:4])\n",
    "\n",
    "# If the last index is missing, it's assumed to go to the end of the list\n",
    "print(aList[4:])\n",
    "\n",
    "# Print every other item in the list\n",
    "print(aList[::2])\n",
    "\n",
    "# Print every third item in the list\n",
    "print(aList[::3])"
   ]
  },
  {
   "cell_type": "code",
   "execution_count": 25,
   "id": "bee4ea8f",
   "metadata": {},
   "outputs": [
    {
     "name": "stdout",
     "output_type": "stream",
     "text": [
      "[2, 4, 6, 8]\n"
     ]
    }
   ],
   "source": [
    "my_list = [2,4,6,8] ## Create a list\n",
    "print(my_list)"
   ]
  },
  {
   "cell_type": "code",
   "execution_count": 26,
   "id": "a80a7423",
   "metadata": {},
   "outputs": [],
   "source": [
    "my_list = ['list', 'of', 'strings'] ## Create a list of strings"
   ]
  },
  {
   "cell_type": "code",
   "execution_count": 27,
   "id": "0f7e2bbb",
   "metadata": {},
   "outputs": [],
   "source": [
    "my_list = [1,'list', False, []] ## Create a list of mixed datatypes"
   ]
  },
  {
   "cell_type": "code",
   "execution_count": 28,
   "id": "bf2d5c5a",
   "metadata": {},
   "outputs": [],
   "source": [
    "my_list = [[1,2,3],[False, True], []] ## Create a nested list"
   ]
  },
  {
   "cell_type": "code",
   "execution_count": 29,
   "id": "3e0b3594",
   "metadata": {},
   "outputs": [
    {
     "data": {
      "text/plain": [
       "3"
      ]
     },
     "execution_count": 29,
     "metadata": {},
     "output_type": "execute_result"
    }
   ],
   "source": [
    "len(my_list) ## Get the length of a list"
   ]
  },
  {
   "cell_type": "markdown",
   "id": "070a9c60",
   "metadata": {},
   "source": [
    "## List Slicing"
   ]
  },
  {
   "cell_type": "code",
   "execution_count": 30,
   "id": "853f39de",
   "metadata": {},
   "outputs": [
    {
     "data": {
      "text/plain": [
       "[4, 5]"
      ]
     },
     "execution_count": 30,
     "metadata": {},
     "output_type": "execute_result"
    }
   ],
   "source": [
    "myList = [1,2,3,4,5] \n",
    "myList[3:] ## Slice the list from index 3 to the end"
   ]
  },
  {
   "cell_type": "code",
   "execution_count": 31,
   "id": "2a9e5fa8",
   "metadata": {},
   "outputs": [
    {
     "data": {
      "text/plain": [
       "[1, 3, 5]"
      ]
     },
     "execution_count": 31,
     "metadata": {},
     "output_type": "execute_result"
    }
   ],
   "source": [
    "myList[0:6:2] ## Slice the list from index 0 to 6, step by 2"
   ]
  },
  {
   "cell_type": "code",
   "execution_count": 32,
   "id": "0a1400b3",
   "metadata": {},
   "outputs": [
    {
     "data": {
      "text/plain": [
       "[1, 3, 5]"
      ]
     },
     "execution_count": 32,
     "metadata": {},
     "output_type": "execute_result"
    }
   ],
   "source": [
    "myList[::2] ## Slice the entire list, step by 2"
   ]
  },
  {
   "cell_type": "code",
   "execution_count": 33,
   "id": "d6a7ee2c",
   "metadata": {},
   "outputs": [],
   "source": [
    "myList = list(range(100)) ## Create a list of integers from 0 to 99"
   ]
  },
  {
   "cell_type": "code",
   "execution_count": 34,
   "id": "a3b1eb2a",
   "metadata": {},
   "outputs": [
    {
     "data": {
      "text/plain": [
       "[99, 89, 79, 69, 59, 49, 39, 29, 19, 9]"
      ]
     },
     "execution_count": 34,
     "metadata": {},
     "output_type": "execute_result"
    }
   ],
   "source": [
    "myList[::-10]"
   ]
  },
  {
   "cell_type": "markdown",
   "id": "a21d0573",
   "metadata": {},
   "source": [
    "## Modifying Lists"
   ]
  },
  {
   "cell_type": "code",
   "execution_count": 35,
   "id": "e416e64e",
   "metadata": {},
   "outputs": [
    {
     "name": "stdout",
     "output_type": "stream",
     "text": [
      "[1, 2, 3, 4, 5]\n"
     ]
    }
   ],
   "source": [
    "myList = [1,2,3,4]\n",
    "myList.append(5)\n",
    "print(myList)"
   ]
  },
  {
   "cell_type": "code",
   "execution_count": 36,
   "id": "fdb85806",
   "metadata": {},
   "outputs": [
    {
     "name": "stdout",
     "output_type": "stream",
     "text": [
      "[1, 2, 3, 'a new value', 4, 5]\n"
     ]
    }
   ],
   "source": [
    "myList.insert(3, 'a new value') ## Insert 'a new value' at index 3\n",
    "print(myList)"
   ]
  },
  {
   "cell_type": "code",
   "execution_count": 37,
   "id": "1e0bcd4f",
   "metadata": {},
   "outputs": [],
   "source": [
    "myList.remove('a new value') ## Remove the first occurrence of 'a new value'"
   ]
  },
  {
   "cell_type": "code",
   "execution_count": 38,
   "id": "98650fb1",
   "metadata": {},
   "outputs": [
    {
     "data": {
      "text/plain": [
       "[1, 2, 3, 4, 5]"
      ]
     },
     "execution_count": 38,
     "metadata": {},
     "output_type": "execute_result"
    }
   ],
   "source": [
    "myList ## Remove the first occurrence of 'a new value'"
   ]
  },
  {
   "cell_type": "code",
   "execution_count": 39,
   "id": "a4979338",
   "metadata": {},
   "outputs": [
    {
     "data": {
      "text/plain": [
       "5"
      ]
     },
     "execution_count": 39,
     "metadata": {},
     "output_type": "execute_result"
    }
   ],
   "source": [
    "myList.pop() ## Remove and return the last item"
   ]
  },
  {
   "cell_type": "code",
   "execution_count": 40,
   "id": "1ef6cdd2",
   "metadata": {},
   "outputs": [
    {
     "name": "stdout",
     "output_type": "stream",
     "text": [
      "4\n",
      "3\n",
      "2\n",
      "1\n"
     ]
    }
   ],
   "source": [
    "while len(myList):\n",
    "    print(myList.pop()) ## Keep popping items until the list is empty"
   ]
  },
  {
   "cell_type": "code",
   "execution_count": 41,
   "id": "0b806ec1",
   "metadata": {},
   "outputs": [
    {
     "name": "stdout",
     "output_type": "stream",
     "text": [
      "[1, 2, 3, 4, 5, 6]\n"
     ]
    }
   ],
   "source": [
    "a = [1,2,3,4,5]\n",
    "b = a\n",
    "a.append(6)\n",
    "print(b)"
   ]
  },
  {
   "cell_type": "code",
   "execution_count": 42,
   "id": "ea60bb21",
   "metadata": {},
   "outputs": [
    {
     "name": "stdout",
     "output_type": "stream",
     "text": [
      "[1, 2, 3, 4, 5, 6]\n",
      "[1, 2, 3, 4, 5]\n"
     ]
    }
   ],
   "source": [
    "a = [1,2,3,4,5]\n",
    "b = a.copy()\n",
    "a.append(6)\n",
    "print(a)\n",
    "print(b)"
   ]
  },
  {
   "cell_type": "markdown",
   "id": "fa9d5b55",
   "metadata": {},
   "source": [
    "## List Comprehensions"
   ]
  },
  {
   "cell_type": "code",
   "execution_count": null,
   "id": "ed853f05",
   "metadata": {},
   "outputs": [],
   "source": [
    "myList = [1,2,3,4,5]\n",
    "[2*item for item in myList] ## Double each item in the list"
   ]
  },
  {
   "cell_type": "markdown",
   "id": "090ccca1",
   "metadata": {},
   "source": [
    "**List comprehensions with filters**"
   ]
  },
  {
   "cell_type": "code",
   "execution_count": null,
   "id": "55ef44a7",
   "metadata": {},
   "outputs": [],
   "source": [
    "myList = list(range(100))\n",
    "filteredList = [item for item in myList if item % 9 == 1] ## Filter items where item mod 9 equals 1\n",
    "filteredList "
   ]
  },
  {
   "cell_type": "code",
   "execution_count": null,
   "id": "e8c30514",
   "metadata": {},
   "outputs": [],
   "source": [
    "filteredList = [item for item in myList if item % 10 < 3] ## Filter items where item mod 10 is less than 3\n",
    "print(filteredList)"
   ]
  },
  {
   "cell_type": "markdown",
   "id": "d7b9f10b",
   "metadata": {},
   "source": [
    "**List comprehensions with functions**"
   ]
  },
  {
   "cell_type": "code",
   "execution_count": null,
   "id": "094de869",
   "metadata": {},
   "outputs": [],
   "source": [
    "myString = 'My name is Ryan Mitchell. I live in Boston' ## Create a string\n",
    "myString.split('.')"
   ]
  },
  {
   "cell_type": "code",
   "execution_count": null,
   "id": "28396cd9",
   "metadata": {},
   "outputs": [],
   "source": [
    "myString.split() ## Split the string at each space"
   ]
  },
  {
   "cell_type": "code",
   "execution_count": null,
   "id": "ba7da7c7",
   "metadata": {},
   "outputs": [],
   "source": [
    "def cleanWord(word):\n",
    "    return word.replace('.', '').lower()\n",
    "\n",
    "[cleanWord(word) for word in myString.split()] ## Clean each word in the string"
   ]
  },
  {
   "cell_type": "code",
   "execution_count": null,
   "id": "7b00a15e",
   "metadata": {},
   "outputs": [],
   "source": [
    "[cleanWord(word) for word in myString.split() if len(cleanWord(word)) < 3] ## Clean and filter words with length less than 3"
   ]
  },
  {
   "cell_type": "markdown",
   "id": "60589b15",
   "metadata": {},
   "source": [
    "**Nested list comprehensions**"
   ]
  },
  {
   "cell_type": "code",
   "execution_count": null,
   "id": "97c87696",
   "metadata": {},
   "outputs": [],
   "source": [
    "[[cleanWord(word) for word in sentence.split()] for sentence in myString.split('.')] ## Nested list comprehensions"
   ]
  },
  {
   "cell_type": "markdown",
   "id": "3e51b245",
   "metadata": {},
   "source": [
    "## Dictionaries"
   ]
  },
  {
   "cell_type": "code",
   "execution_count": 43,
   "id": "4dd8f3ba",
   "metadata": {},
   "outputs": [],
   "source": [
    "from collections import defaultdict # Import defaultdict from collections module"
   ]
  },
  {
   "cell_type": "code",
   "execution_count": 44,
   "id": "b755b35e",
   "metadata": {},
   "outputs": [
    {
     "data": {
      "text/plain": [
       "{'a': 'aardvark',\n",
       " 'b': 'bear',\n",
       " 'c': 'cat',\n",
       " 'd': 'dog',\n",
       " 'e': 'elephant',\n",
       " 'f': 'fox',\n",
       " 'g': 'goat',\n",
       " 'h': 'hippo',\n",
       " 'i': 'iguana',\n",
       " 'j': 'jaguar'}"
      ]
     },
     "execution_count": 44,
     "metadata": {},
     "output_type": "execute_result"
    }
   ],
   "source": [
    "animals = {\n",
    "    'a': 'aardvark',\n",
    "    'b': 'bear',\n",
    "    'c': 'cat',\n",
    "    'd': 'dog',\n",
    "    'e': 'elephant',\n",
    "    'f': 'fox',\n",
    "    'g': 'goat',\n",
    "    'h': 'hippo',\n",
    "    'i': 'iguana',\n",
    "    'j': 'jaguar'\n",
    "}\n",
    "animals"
   ]
  },
  {
   "cell_type": "code",
   "execution_count": 45,
   "id": "8631bed3",
   "metadata": {},
   "outputs": [],
   "source": [
    "animals['f'] = 'frog' ## Update the value for key 'f'"
   ]
  },
  {
   "cell_type": "code",
   "execution_count": 46,
   "id": "5b9a3ff9",
   "metadata": {},
   "outputs": [],
   "source": [
    "animals['f'] = 'frog' ## Update the value for key 'f'"
   ]
  },
  {
   "cell_type": "code",
   "execution_count": 47,
   "id": "da5307a0",
   "metadata": {},
   "outputs": [],
   "source": [
    "animals['a'] = 'antelope' ## Update the value for key 'a'"
   ]
  },
  {
   "cell_type": "code",
   "execution_count": 48,
   "id": "85829dbf",
   "metadata": {},
   "outputs": [
    {
     "data": {
      "text/plain": [
       "dict_keys(['a', 'b', 'c', 'd', 'e', 'f', 'g', 'h', 'i', 'j'])"
      ]
     },
     "execution_count": 48,
     "metadata": {},
     "output_type": "execute_result"
    }
   ],
   "source": [
    "animals.keys() ## Get all the keys in the dictionary"
   ]
  },
  {
   "cell_type": "code",
   "execution_count": 49,
   "id": "1b990577",
   "metadata": {},
   "outputs": [
    {
     "data": {
      "text/plain": [
       "['a', 'b', 'c', 'd', 'e', 'f', 'g', 'h', 'i', 'j']"
      ]
     },
     "execution_count": 49,
     "metadata": {},
     "output_type": "execute_result"
    }
   ],
   "source": [
    "list(animals.keys()) ## Convert the keys view to a list"
   ]
  },
  {
   "cell_type": "code",
   "execution_count": 50,
   "id": "00ff19f1",
   "metadata": {},
   "outputs": [
    {
     "data": {
      "text/plain": [
       "'antelope'"
      ]
     },
     "execution_count": 50,
     "metadata": {},
     "output_type": "execute_result"
    }
   ],
   "source": [
    "animals.get('a') ## Get the value for key 'a'"
   ]
  },
  {
   "cell_type": "code",
   "execution_count": 51,
   "id": "8867962a",
   "metadata": {},
   "outputs": [
    {
     "data": {
      "text/plain": [
       "10"
      ]
     },
     "execution_count": 51,
     "metadata": {},
     "output_type": "execute_result"
    }
   ],
   "source": [
    "len(animals) ## Get the number of key-value pairs in the dictionary"
   ]
  },
  {
   "cell_type": "code",
   "execution_count": 52,
   "id": "5d6e2271",
   "metadata": {},
   "outputs": [],
   "source": [
    "animals = {\n",
    "    'a': ['aardvark', 'antelope'],\n",
    "    'b': ['bear'],\n",
    "    'c': ['cat'],\n",
    "    'd': ['dog'],\n",
    "    'e': ['elephant'],\n",
    "    'f': ['frog'],\n",
    "    'g': ['goat'],\n",
    "    'h': ['hippo'],\n",
    "    'i': ['iguana'],\n",
    "    'j': ['jaguar']\n",
    "}"
   ]
  },
  {
   "cell_type": "code",
   "execution_count": 53,
   "id": "51cd14ca",
   "metadata": {},
   "outputs": [],
   "source": [
    "animals['b'].append('bison') ## Append 'bison' to the list at key 'b'   "
   ]
  },
  {
   "cell_type": "code",
   "execution_count": 54,
   "id": "f1c62747",
   "metadata": {},
   "outputs": [],
   "source": [
    "animals['c'] = ['cat']"
   ]
  },
  {
   "cell_type": "code",
   "execution_count": 55,
   "id": "05047ce7",
   "metadata": {},
   "outputs": [],
   "source": [
    "animals = defaultdict(list)"
   ]
  },
  {
   "cell_type": "code",
   "execution_count": 56,
   "id": "1589721a",
   "metadata": {},
   "outputs": [
    {
     "data": {
      "text/plain": [
       "defaultdict(list, {})"
      ]
     },
     "execution_count": 56,
     "metadata": {},
     "output_type": "execute_result"
    }
   ],
   "source": [
    "animals"
   ]
  },
  {
   "cell_type": "code",
   "execution_count": 57,
   "id": "1b3784f8",
   "metadata": {},
   "outputs": [
    {
     "data": {
      "text/plain": [
       "defaultdict(list, {'e': ['elephant']})"
      ]
     },
     "execution_count": 57,
     "metadata": {},
     "output_type": "execute_result"
    }
   ],
   "source": [
    "animals['e'].append('elephant')\n",
    "animals"
   ]
  },
  {
   "cell_type": "code",
   "execution_count": 58,
   "id": "8d7ad0f1",
   "metadata": {},
   "outputs": [
    {
     "data": {
      "text/plain": [
       "defaultdict(list, {'e': ['elephant', 'emu']})"
      ]
     },
     "execution_count": 58,
     "metadata": {},
     "output_type": "execute_result"
    }
   ],
   "source": [
    "animals['e'].append('emu')\n",
    "animals"
   ]
  },
  {
   "cell_type": "code",
   "execution_count": 59,
   "id": "d21f9e7a",
   "metadata": {},
   "outputs": [
    {
     "data": {
      "text/plain": [
       "defaultdict(list, {'e': ['elephant', 'emu'], 'f': ['fox']})"
      ]
     },
     "execution_count": 59,
     "metadata": {},
     "output_type": "execute_result"
    }
   ],
   "source": [
    "animals['f'].append('fox')\n",
    "animals"
   ]
  },
  {
   "cell_type": "code",
   "execution_count": 60,
   "id": "3734f14c",
   "metadata": {},
   "outputs": [],
   "source": [
    "if 'c' not in animals:\n",
    "    animals['c'] = []\n",
    "    \n",
    "animals['c'].append('cat')"
   ]
  },
  {
   "cell_type": "code",
   "execution_count": 61,
   "id": "a7b14903",
   "metadata": {},
   "outputs": [],
   "source": [
    "my_dictionary = { # Create a dictionary\n",
    "    'apple': 'A red fruit', \n",
    "    'bear': 'A scary animal',\n",
    "    'car': 'A fast vehicle',\n",
    "        'kia': 'A car brand',\n",
    "        'suv': 'A sport utility vehicle',\n",
    "        '18-wheeler': 'A large truck',\n",
    "    'TV': 'A device for viewing programs',\n",
    "        'flatscreen': 'A type of television'\n",
    "        \n",
    "} ## Key/value pairs"
   ]
  },
  {
   "cell_type": "code",
   "execution_count": 62,
   "id": "71cb4860",
   "metadata": {},
   "outputs": [
    {
     "data": {
      "text/plain": [
       "'A device for viewing programs'"
      ]
     },
     "execution_count": 62,
     "metadata": {},
     "output_type": "execute_result"
    }
   ],
   "source": [
    "my_dictionary[ 'TV' ]"
   ]
  },
  {
   "cell_type": "code",
   "execution_count": 63,
   "id": "37bd5a02",
   "metadata": {},
   "outputs": [],
   "source": [
    "my_dictionary = {\n",
    "    'apple': 'A red fruit', \n",
    "    'bear': 'A scary animal',\n",
    "    'apple': 'Sometimes a green fruit'\n",
    "}"
   ]
  },
  {
   "cell_type": "code",
   "execution_count": 64,
   "id": "c0d97537",
   "metadata": {},
   "outputs": [
    {
     "name": "stdout",
     "output_type": "stream",
     "text": [
      "1\n"
     ]
    }
   ],
   "source": [
    "aDict = {\n",
    "    'one': 1, ## Key/value pairs\n",
    "    'two': 2, \n",
    "    'three': 3,\n",
    "}\n",
    "# Add key/value pairs to dictionary\n",
    "aDict['four'] = 4\n",
    "\n",
    "# Access values by keys\n",
    "print(aDict['one']) "
   ]
  },
  {
   "cell_type": "code",
   "execution_count": 65,
   "id": "a5c7a457",
   "metadata": {},
   "outputs": [
    {
     "name": "stdout",
     "output_type": "stream",
     "text": [
      "dict_keys(['one', 'two', 'three', 'four'])\n",
      "dict_values([1, 2, 3, 4])\n",
      "dict_items([('one', 1), ('two', 2), ('three', 3), ('four', 4)])\n"
     ]
    }
   ],
   "source": [
    "# Print all keys\n",
    "print(aDict.keys())\n",
    "\n",
    "# Print all values\n",
    "print(aDict.values())\n",
    "\n",
    "# Print all key/value pairs\n",
    "print(aDict.items())"
   ]
  },
  {
   "cell_type": "markdown",
   "id": "6d6fa57d",
   "metadata": {},
   "source": [
    "## Dictionary Comprehension"
   ]
  },
  {
   "cell_type": "code",
   "execution_count": null,
   "id": "905fdbb3",
   "metadata": {},
   "outputs": [],
   "source": [
    "animalList = [('a', 'aardvark'), ('b', 'bear'), ('c', 'cat'), ('d', 'dog')]\n",
    "animals = {item[0]: item[1] for item in animalList} ## Create a dictionary from a list of tuples\n",
    "animals"
   ]
  },
  {
   "cell_type": "code",
   "execution_count": null,
   "id": "a67bd675",
   "metadata": {},
   "outputs": [],
   "source": [
    "animals = {key: value for key, value in animalList} ## Another way to create the dictionary from a list of tuples\n",
    "animals"
   ]
  },
  {
   "cell_type": "code",
   "execution_count": null,
   "id": "08a17578",
   "metadata": {},
   "outputs": [],
   "source": [
    "animals.items() ## Get a view of the dictionary's items"
   ]
  },
  {
   "cell_type": "code",
   "execution_count": null,
   "id": "9c5261cf",
   "metadata": {},
   "outputs": [],
   "source": [
    "list(animals.items()) ## Convert the items view to a list"
   ]
  },
  {
   "cell_type": "code",
   "execution_count": null,
   "id": "ae0433b7",
   "metadata": {},
   "outputs": [],
   "source": [
    "[{'letter': key, 'name': value} for key, value in animals.items()] ## Create a list of dictionaries from the items in the dictionary"
   ]
  },
  {
   "cell_type": "markdown",
   "id": "778d84ba",
   "metadata": {},
   "source": [
    "## Sets (no order, no duplicates)"
   ]
  },
  {
   "cell_type": "code",
   "execution_count": 66,
   "id": "974ad2ee",
   "metadata": {},
   "outputs": [
    {
     "name": "stdout",
     "output_type": "stream",
     "text": [
      "{1, 3, 4, 5}\n"
     ]
    }
   ],
   "source": [
    "aSet = {1,2,3,4} # Create a set of integers\n",
    "\n",
    "# Add an item to a set\n",
    "aSet.add(5)\n",
    "\n",
    "# Remove an item from a set\n",
    "aSet.remove(2)\n",
    "print(aSet)"
   ]
  },
  {
   "cell_type": "code",
   "execution_count": 67,
   "id": "420e5e8c",
   "metadata": {},
   "outputs": [
    {
     "name": "stdout",
     "output_type": "stream",
     "text": [
      "True\n",
      "False\n"
     ]
    }
   ],
   "source": [
    "weekdays = {\"Monday\", \"Tuesday\", \"Wednesday\", \"Thursday\", \"Friday\"}\n",
    "print(\"Monday\" in weekdays)   # True\n",
    "print(\"Sunday\" in weekdays)   # False"
   ]
  },
  {
   "cell_type": "code",
   "execution_count": 68,
   "id": "23faf7a5",
   "metadata": {},
   "outputs": [
    {
     "name": "stdout",
     "output_type": "stream",
     "text": [
      "{1, 2, 3, 4, 5}\n"
     ]
    }
   ],
   "source": [
    "my_sets = {1,2,3,4,5} \n",
    "print(my_sets)"
   ]
  },
  {
   "cell_type": "markdown",
   "id": "37329eb1",
   "metadata": {},
   "source": [
    "## Tuples"
   ]
  },
  {
   "cell_type": "code",
   "execution_count": 69,
   "id": "f3829f17",
   "metadata": {},
   "outputs": [
    {
     "data": {
      "text/plain": [
       "True"
      ]
     },
     "execution_count": 69,
     "metadata": {},
     "output_type": "execute_result"
    }
   ],
   "source": [
    " (1,2) == (2,1) # False - order matters in tuples\n",
    " {1,2} == {2,1} # True - order does not matter in sets"
   ]
  },
  {
   "cell_type": "code",
   "execution_count": 70,
   "id": "4be8d648",
   "metadata": {},
   "outputs": [
    {
     "data": {
      "text/plain": [
       "(1, 2, 3, 4)"
      ]
     },
     "execution_count": 70,
     "metadata": {},
     "output_type": "execute_result"
    }
   ],
   "source": [
    "# Tuples cannot be modified\n",
    "aTuple = (1,2,3,4) \n",
    "aTuple"
   ]
  },
  {
   "cell_type": "code",
   "execution_count": 71,
   "id": "1c1bf778",
   "metadata": {},
   "outputs": [
    {
     "name": "stdout",
     "output_type": "stream",
     "text": [
      "[[1, 2, 3], [False, True], [], 10]\n"
     ]
    }
   ],
   "source": [
    "my_list.append(10) ## Append 10 to the end of my_list\n",
    "print(my_list)"
   ]
  },
  {
   "cell_type": "markdown",
   "id": "4fb74d9f",
   "metadata": {},
   "source": [
    "## Casting Data Types"
   ]
  },
  {
   "cell_type": "code",
   "execution_count": 72,
   "id": "75c30c42",
   "metadata": {},
   "outputs": [
    {
     "data": {
      "text/plain": [
       "1"
      ]
     },
     "execution_count": 72,
     "metadata": {},
     "output_type": "execute_result"
    }
   ],
   "source": [
    "# String to integer\n",
    "int('1') "
   ]
  },
  {
   "cell_type": "code",
   "execution_count": 73,
   "id": "fc0d3c1c",
   "metadata": {},
   "outputs": [
    {
     "data": {
      "text/plain": [
       "1"
      ]
     },
     "execution_count": 73,
     "metadata": {},
     "output_type": "execute_result"
    }
   ],
   "source": [
    "# Float to integer\n",
    "int(1.5)"
   ]
  },
  {
   "cell_type": "code",
   "execution_count": 74,
   "id": "a2992b06",
   "metadata": {},
   "outputs": [
    {
     "data": {
      "text/plain": [
       "1.0"
      ]
     },
     "execution_count": 74,
     "metadata": {},
     "output_type": "execute_result"
    }
   ],
   "source": [
    "# Integer to float\n",
    "float(1)"
   ]
  },
  {
   "cell_type": "code",
   "execution_count": 75,
   "id": "10effcf7",
   "metadata": {},
   "outputs": [
    {
     "data": {
      "text/plain": [
       "True"
      ]
     },
     "execution_count": 75,
     "metadata": {},
     "output_type": "execute_result"
    }
   ],
   "source": [
    "# Integer to boolean\n",
    "bool(1)"
   ]
  },
  {
   "cell_type": "code",
   "execution_count": 76,
   "id": "a54d0a6b",
   "metadata": {},
   "outputs": [
    {
     "data": {
      "text/plain": [
       "False"
      ]
     },
     "execution_count": 76,
     "metadata": {},
     "output_type": "execute_result"
    }
   ],
   "source": [
    "# String to boolean (Anything other than an empty string is True)\n",
    "bool('')"
   ]
  },
  {
   "cell_type": "code",
   "execution_count": 77,
   "id": "b7decc12",
   "metadata": {},
   "outputs": [
    {
     "data": {
      "text/plain": [
       "'1'"
      ]
     },
     "execution_count": 77,
     "metadata": {},
     "output_type": "execute_result"
    }
   ],
   "source": [
    "# Int to string\n",
    "str(1)"
   ]
  },
  {
   "cell_type": "code",
   "execution_count": 78,
   "id": "cbd50053",
   "metadata": {},
   "outputs": [
    {
     "data": {
      "text/plain": [
       "b'\\xf0\\x9f\\x99\\x82'"
      ]
     },
     "execution_count": 78,
     "metadata": {},
     "output_type": "execute_result"
    }
   ],
   "source": [
    "# String to bytes, requires the encoding\n",
    "bytes('🙂', 'utf-8')"
   ]
  },
  {
   "cell_type": "markdown",
   "id": "1298f951",
   "metadata": {},
   "source": [
    "## String Operators"
   ]
  },
  {
   "cell_type": "code",
   "execution_count": 79,
   "id": "738e78ad",
   "metadata": {},
   "outputs": [
    {
     "ename": "IndentationError",
     "evalue": "unexpected indent (3917000301.py, line 1)",
     "output_type": "error",
     "traceback": [
      "  \u001b[36mCell\u001b[39m\u001b[36m \u001b[39m\u001b[32mIn[79]\u001b[39m\u001b[32m, line 1\u001b[39m\n\u001b[31m    \u001b[39m\u001b[31mString concatenation\u001b[39m\n    ^\n\u001b[31mIndentationError\u001b[39m\u001b[31m:\u001b[39m unexpected indent\n"
     ]
    }
   ],
   "source": [
    " String concatenation\n",
    "'Ryan ' + 'Mitchell'"
   ]
  },
  {
   "cell_type": "code",
   "execution_count": null,
   "id": "98e1d0e6",
   "metadata": {},
   "outputs": [
    {
     "data": {
      "text/plain": [
       "'PythonPythonPythonPythonPythonPython'"
      ]
     },
     "execution_count": 66,
     "metadata": {},
     "output_type": "execute_result"
    }
   ],
   "source": [
    "# String multiplication\n",
    "'Python'*6"
   ]
  },
  {
   "cell_type": "code",
   "execution_count": null,
   "id": "adef6c67",
   "metadata": {},
   "outputs": [],
   "source": [
    " #Access a particular character in a string\n",
    "'Python'[3]"
   ]
  },
  {
   "cell_type": "markdown",
   "id": "b0f91087",
   "metadata": {},
   "source": [
    "## Membership Operators"
   ]
  },
  {
   "cell_type": "code",
   "execution_count": null,
   "id": "6c5bd67e",
   "metadata": {},
   "outputs": [],
   "source": [
    "1 in [1,2,3,4,5]"
   ]
  },
  {
   "cell_type": "code",
   "execution_count": null,
   "id": "0d307976",
   "metadata": {},
   "outputs": [],
   "source": [
    "10 not in [1,2,3,4,5]"
   ]
  },
  {
   "cell_type": "code",
   "execution_count": null,
   "id": "0a585ee9",
   "metadata": {},
   "outputs": [],
   "source": [
    "'cat' not in 'my pet cat'"
   ]
  },
  {
   "cell_type": "markdown",
   "id": "02d6c92f",
   "metadata": {},
   "source": [
    "## Boolean Operators"
   ]
  },
  {
   "cell_type": "code",
   "execution_count": null,
   "id": "d895af64",
   "metadata": {},
   "outputs": [],
   "source": [
    "# AND\n",
    "print(True and True)\n",
    "print(True and False)\n",
    "print(False and False)"
   ]
  },
  {
   "cell_type": "code",
   "execution_count": null,
   "id": "7abc3fcd",
   "metadata": {},
   "outputs": [],
   "source": [
    "# OR\n",
    "print(True or True)\n",
    "print(True or False)\n",
    "print(False or False)"
   ]
  },
  {
   "cell_type": "code",
   "execution_count": null,
   "id": "c4459e75",
   "metadata": {},
   "outputs": [],
   "source": [
    "# Equality operator\n",
    "5 == 5"
   ]
  },
  {
   "cell_type": "code",
   "execution_count": null,
   "id": "99ecca11",
   "metadata": {},
   "outputs": [],
   "source": [
    "# Inequality operator\n",
    "5 != 4"
   ]
  },
  {
   "cell_type": "code",
   "execution_count": null,
   "id": "51844c8c",
   "metadata": {},
   "outputs": [],
   "source": [
    "# Less than\n",
    "4 < 5"
   ]
  },
  {
   "cell_type": "code",
   "execution_count": null,
   "id": "dca80640",
   "metadata": {},
   "outputs": [],
   "source": [
    "# Less than or equals to \n",
    "5 <= 5"
   ]
  },
  {
   "cell_type": "code",
   "execution_count": null,
   "id": "e9c3a131",
   "metadata": {},
   "outputs": [],
   "source": [
    "# Greater than\n",
    "5 > 4"
   ]
  },
  {
   "cell_type": "markdown",
   "id": "9d02be18",
   "metadata": {},
   "source": [
    "## Control Flow"
   ]
  },
  {
   "cell_type": "code",
   "execution_count": null,
   "id": "0390d48d",
   "metadata": {},
   "outputs": [],
   "source": [
    "if False: \n",
    "    print('This does not print')\n",
    "else: \n",
    "    print('This will print')"
   ]
  },
  {
   "cell_type": "code",
   "execution_count": null,
   "id": "57800a00",
   "metadata": {},
   "outputs": [],
   "source": [
    "# Iterate through items in a range\n",
    "for i in range(0, 5):\n",
    "    print('Number: {}'.format(i))"
   ]
  },
  {
   "cell_type": "code",
   "execution_count": null,
   "id": "3ea9de97",
   "metadata": {},
   "outputs": [],
   "source": [
    "i = 0\n",
    "while i < 5:\n",
    "    print('Number: {}'.format(i))\n",
    "    i = i + 1"
   ]
  },
  {
   "cell_type": "markdown",
   "id": "08c04e37",
   "metadata": {},
   "source": [
    "**Control Flow with Print**"
   ]
  },
  {
   "cell_type": "code",
   "execution_count": null,
   "id": "8bf36894",
   "metadata": {},
   "outputs": [
    {
     "name": "stdout",
     "output_type": "stream",
     "text": [
      "You have made the honor roll!\n"
     ]
    }
   ],
   "source": [
    "math_score = 91\n",
    "science_score = 91\n",
    "if math_score >= 90 and science_score >= 90:\n",
    "    print(\"You have made the honor roll!\")"
   ]
  },
  {
   "cell_type": "markdown",
   "id": "a38c5c78",
   "metadata": {},
   "source": [
    "**Control Flow with Functions**"
   ]
  },
  {
   "cell_type": "code",
   "execution_count": null,
   "id": "09df52cd",
   "metadata": {},
   "outputs": [
    {
     "name": "stdout",
     "output_type": "stream",
     "text": [
      "I like to eat wings and drink hennessey.\n",
      "My favorite outfit is a White T-shirt, Blue Jeans, and Jordans.\n",
      "This is my favorite meal!\n"
     ]
    }
   ],
   "source": [
    "x = \"wings\"\n",
    "y = \"hennessey\"\n",
    "z = \"White T-shirt, Blue Jeans, and Jordans\"\n",
    "\n",
    "print(f\"I like to eat {x} and drink {y}.\")\n",
    "print(f\"My favorite outfit is a {z}.\")\n",
    "\n",
    "# Nested preferences\n",
    "if x == \"wings\" and y == \"hennessey\":\n",
    "    print(\"This is my favorite meal!\")\n",
    "elif y == \"water\":\n",
    "    print(\"I prefer something stronger.\")\n",
    "else:\n",
    "    print(\"I like to try different foods and drinks.\")\n"
   ]
  },
  {
   "cell_type": "markdown",
   "id": "beed1e15",
   "metadata": {},
   "source": [
    "## Handling Exceptions"
   ]
  },
  {
   "cell_type": "markdown",
   "id": "6e48d513",
   "metadata": {},
   "source": [
    "**Try / Except**"
   ]
  },
  {
   "cell_type": "code",
   "execution_count": null,
   "id": "4a7a3014",
   "metadata": {},
   "outputs": [],
   "source": [
    "def causeError():\n",
    "    try:\n",
    "        return 1/0\n",
    "    except Exception as e:\n",
    "        return e\n",
    "    \n",
    "causeError()"
   ]
  },
  {
   "cell_type": "code",
   "execution_count": null,
   "id": "fc408aa7",
   "metadata": {},
   "outputs": [],
   "source": [
    "def causeError():\n",
    "    try:\n",
    "        return 1/0\n",
    "    except Exception:\n",
    "        print('There was some sort of error!')\n",
    "    \n",
    "causeError()"
   ]
  },
  {
   "cell_type": "markdown",
   "id": "ba05c5a0",
   "metadata": {},
   "source": [
    "**Finally**"
   ]
  },
  {
   "cell_type": "code",
   "execution_count": null,
   "id": "b0bf512a",
   "metadata": {},
   "outputs": [],
   "source": [
    "def causeError():\n",
    "    try:\n",
    "        return 1/1\n",
    "    except Exception:\n",
    "        print('There was some sort of error!')\n",
    "    finally:\n",
    "        print('This will always execute!')\n",
    "    \n",
    "causeError()"
   ]
  },
  {
   "cell_type": "code",
   "execution_count": null,
   "id": "dbfd1778",
   "metadata": {},
   "outputs": [],
   "source": [
    "def causeError():\n",
    "    start = time.time()\n",
    "    try:\n",
    "        time.sleep(0.5)\n",
    "        return 1/0\n",
    "    except Exception:\n",
    "        print('There was some sort of error!')\n",
    "    finally:\n",
    "        print(f'Function took {time.time() - start} seconds to execute')\n",
    "    \n",
    "causeError()"
   ]
  },
  {
   "cell_type": "markdown",
   "id": "f987386c",
   "metadata": {},
   "source": [
    "**Catching Exceptions by Type**"
   ]
  },
  {
   "cell_type": "code",
   "execution_count": null,
   "id": "15ff69f0",
   "metadata": {},
   "outputs": [],
   "source": [
    "def causeError():\n",
    "    try:\n",
    "        return 1 + 'a'\n",
    "\n",
    "    except TypeError:\n",
    "        print('There was a type error!')\n",
    "    except ZeroDivisionError:\n",
    "        print('There was a zero division error!')\n",
    "    except Exception:\n",
    "        print('There was some sort of error!')\n",
    "\n",
    "    \n",
    "causeError()"
   ]
  },
  {
   "cell_type": "markdown",
   "id": "c9d74a0a",
   "metadata": {},
   "source": [
    "**Custom Decorators**"
   ]
  },
  {
   "cell_type": "code",
   "execution_count": null,
   "id": "a209d3c8",
   "metadata": {},
   "outputs": [],
   "source": [
    "def handleException(func):\n",
    "    def wrapper(*args):\n",
    "        try:\n",
    "            func(*args)\n",
    "        except TypeError:\n",
    "            print('There was a type error!')\n",
    "        except ZeroDivisionError:\n",
    "            print('There was a zero division error!')\n",
    "        except Exception:\n",
    "            print('There was some sort of error!')\n",
    "    return wrapper\n",
    "\n",
    "@handleException\n",
    "def causeError():\n",
    "    return 1/0\n",
    "\n",
    "causeError()"
   ]
  },
  {
   "cell_type": "markdown",
   "id": "a41147a9",
   "metadata": {},
   "source": [
    "**Raising Exceptions**"
   ]
  },
  {
   "cell_type": "code",
   "execution_count": null,
   "id": "41a34027",
   "metadata": {},
   "outputs": [],
   "source": [
    "@handleException\n",
    "def raiseError(n):\n",
    "    if n == 0:\n",
    "        raise Exception()\n",
    "    print(n)\n",
    "    \n",
    "raiseError(1)"
   ]
  },
  {
   "cell_type": "markdown",
   "id": "140863cf",
   "metadata": {},
   "source": [
    "## Dictionary with For Loops"
   ]
  },
  {
   "cell_type": "markdown",
   "id": "5e428cd2",
   "metadata": {},
   "source": [
    "**Dictionary with For Loop**"
   ]
  },
  {
   "cell_type": "code",
   "execution_count": null,
   "id": "6d39f15f",
   "metadata": {},
   "outputs": [
    {
     "name": "stdout",
     "output_type": "stream",
     "text": [
      "Monday\n",
      "Drink water 🥤\n",
      "Tuesday\n",
      "Drink juice 🧃\n",
      "Wednesday\n",
      "Drink coffee ☕\n",
      "Thursday\n",
      "Drink tea 🍵\n",
      "Friday\n",
      "Drink soda 🥤\n",
      "Saturday\n",
      "Drink wine 🍷\n",
      "Sunday\n",
      "Drink champagne 🍾\n",
      "Relax and enjoy your day!\n"
     ]
    }
   ],
   "source": [
    "drinks = {\n",
    "    \"Monday\": \"Drink water 🥤\",\n",
    "    \"Tuesday\": \"Drink juice 🧃\",\n",
    "    \"Wednesday\": \"Drink coffee ☕\",\n",
    "    \"Thursday\": \"Drink tea 🍵\",\n",
    "    \"Friday\": \"Drink soda 🥤\",\n",
    "    \"Saturday\": \"Drink wine 🍷\",\n",
    "    \"Sunday\": \"Drink champagne 🍾\\nRelax and enjoy your day!\"\n",
    "}\n",
    "\n",
    "for day in drinks:\n",
    "    print(day)\n",
    "    print(drinks[day])\n"
   ]
  },
  {
   "cell_type": "markdown",
   "id": "7f9836e0",
   "metadata": {},
   "source": [
    "**Dictionary x For Loop x Function**"
   ]
  },
  {
   "cell_type": "code",
   "execution_count": null,
   "id": "f5ad8f16",
   "metadata": {},
   "outputs": [
    {
     "name": "stdout",
     "output_type": "stream",
     "text": [
      "x is y = 5\n",
      "1\n",
      "x is 1 = 5/2 = 2.5\n",
      "2\n",
      "x is 2 = 5/2 = 2.5\n",
      "3\n",
      "x is 3 = 5/2 = 2.5\n",
      "4\n",
      "x is 4 = 5/2 = 2.5\n",
      "5\n",
      "x is 5 = 5/2 = 2.5\n",
      "6\n",
      "x is 6 = 5/2 = 2.5\n",
      "7\n",
      "x is 7 = 5/2 = 2.5\n",
      "8\n",
      "x is 8 = 5/2 = 2.5\n",
      "9\n",
      "x is 9 = 5/2 = 2.5\n",
      "10\n",
      "x is 10 = 5/2 = 2.5\n"
     ]
    }
   ],
   "source": [
    "dictionary = {\n",
    "    \"x\": 5,\n",
    "    \"y\": 5,\n",
    "    \"z\": 10\n",
    "}\n",
    "print(f\"x is y = {dictionary['y']}\")\n",
    "\n",
    "for y in range(1, 11):\n",
    "    print(y)\n",
    "    print(f\"x is {y} = {dictionary['x']}/2 = {dictionary['x']/2}\")"
   ]
  },
  {
   "cell_type": "markdown",
   "id": "752aee3b",
   "metadata": {},
   "source": [
    "**For Loop x Control Flow x Function**"
   ]
  },
  {
   "cell_type": "code",
   "execution_count": null,
   "id": "f384c939",
   "metadata": {},
   "outputs": [
    {
     "name": "stdout",
     "output_type": "stream",
     "text": [
      "Battery at 20% - Phone is in Power Saving Mode\n",
      "Battery at 19% - Phone is in Power Saving Mode\n",
      "Battery at 18% - Phone is in Power Saving Mode\n",
      "Battery at 17% - Phone is in Power Saving Mode\n",
      "Battery at 16% - Phone is in Power Saving Mode\n",
      "Battery at 15% - Phone is in Power Saving Mode\n",
      "Battery at 14% - Phone is in Power Saving Mode\n",
      "Battery at 13% - Phone is in Power Saving Mode\n",
      "Battery at 12% - Phone is in Power Saving Mode\n",
      "Battery at 11% - Phone is in Power Saving Mode\n",
      "Battery at 10% - Phone is in Power Saving Mode\n",
      "Battery at 9% - Phone is in Power Saving Mode\n",
      "Battery at 8% - Phone is in Power Saving Mode\n",
      "Battery at 7% - Phone is in Power Saving Mode\n",
      "Battery at 6% - Phone is in Power Saving Mode\n",
      "Battery at 5% - Phone is in Power Saving Mode\n",
      "Battery at 4% - Phone is in Power Saving Mode\n",
      "Battery at 3% - Phone is in Power Saving Mode\n",
      "Battery at 2% - Phone is in Power Saving Mode\n",
      "Battery at 1% - Phone is in Power Saving Mode\n",
      "Battery empty! 🔋\n"
     ]
    }
   ],
   "source": [
    "for battery in range(20, -1, -1):\n",
    "    if battery == 0:\n",
    "        print(\"Battery empty! 🔋\")\n",
    "    else:\n",
    "        print(f\"Battery at {battery}% - Phone is in Power Saving Mode\")"
   ]
  },
  {
   "cell_type": "markdown",
   "id": "3ac0c086",
   "metadata": {},
   "source": [
    "**Dictionary x Function For Loop**"
   ]
  },
  {
   "cell_type": "code",
   "execution_count": null,
   "id": "4157f3ba",
   "metadata": {},
   "outputs": [
    {
     "name": "stdout",
     "output_type": "stream",
     "text": [
      "Hello, Kevin! Welcome to Python Multi 🚀\n",
      "Hello, Alice! Welcome to Python Multi 🚀\n",
      "Hello, Bob! Welcome to Python Multi 🚀\n"
     ]
    }
   ],
   "source": [
    "str1 = \"Hello\"\n",
    "str2 = \"Python\"\n",
    "str3 = \"Multi\"\n",
    "\n",
    "dictionary = {\n",
    "    \"students\": [\n",
    "        {\"name\": \"Kevin\", \"age\": 28, \"city\": \"Chicago\"},\n",
    "        {\"name\": \"Alice\", \"age\": 24, \"city\": \"New York\"},\n",
    "        {\"name\": \"Bob\", \"age\": 22, \"city\": \"San Francisco\"}\n",
    "    ]\n",
    "}\n",
    "\n",
    "# Function to greet all students\n",
    "def say_hey():\n",
    "    for student in dictionary[\"students\"]:\n",
    "        print(f\"{str1}, {student['name']}! Welcome to {str2} {str3} 🚀\")\n",
    "\n",
    "# Call the function\n",
    "say_hey()\n"
   ]
  },
  {
   "cell_type": "markdown",
   "id": "a7b59e02",
   "metadata": {},
   "source": [
    "**Dicntionary x With Multi-line Function**"
   ]
  },
  {
   "cell_type": "code",
   "execution_count": null,
   "id": "f4890d62",
   "metadata": {},
   "outputs": [
    {
     "name": "stdout",
     "output_type": "stream",
     "text": [
      "Let's talk about Kevin Robinson. I am 28 years old and 5'10 tall.\n",
      "          I weigh 180 pounds. I have Brown eyes and White teeth in my mouth\n",
      "            when I smile. In addition, I have Black hair.\n",
      "----------------------------------------\n",
      "Let's talk about Alice Johnson. I am 24 years old and 5'6 tall.\n",
      "          I weigh 150 pounds. I have Blue eyes and Yellow teeth in my mouth\n",
      "            when I smile. In addition, I have Blonde hair.\n",
      "----------------------------------------\n",
      "Let's talk about Bob Smith. I am 22 years old and 5'8 tall.\n",
      "          I weigh 130 pounds. I have Green eyes and Brown teeth in my mouth\n",
      "            when I smile. In addition, I have Red hair.\n",
      "----------------------------------------\n"
     ]
    }
   ],
   "source": [
    "people = [\n",
    "    {\"name\": \"Kevin Robinson\", \"age\": 28, \"height\": \"5'10\", \"weight\": 180, \"eyes\": \"Brown\", \"teeth\": \"White\", \"hair\": \"Black\"},\n",
    "    {\"name\": \"Alice Johnson\", \"age\": 24, \"height\": \"5'6\", \"weight\": 150, \"eyes\": \"Blue\", \"teeth\": \"Yellow\", \"hair\": \"Blonde\"},\n",
    "    {\"name\": \"Bob Smith\", \"age\": 22, \"height\": \"5'8\", \"weight\": 130, \"eyes\": \"Green\", \"teeth\": \"Brown\", \"hair\": \"Red\"}\n",
    "]\n",
    "\n",
    "for person in people:\n",
    "    print(f\"\"\"Let's talk about {person['name']}. I am {person['age']} years old and {person['height']} tall.\n",
    "          I weigh {person['weight']} pounds. I have {person['eyes']} eyes and {person['teeth']} teeth in my mouth\n",
    "            when I smile. In addition, I have {person['hair']} hair.\"\"\")\n",
    "    print(\"-\" * 40)\n"
   ]
  },
  {
   "cell_type": "markdown",
   "id": "fb2a77ff",
   "metadata": {},
   "source": [
    "## Functions"
   ]
  },
  {
   "cell_type": "code",
   "execution_count": null,
   "id": "ce4e1be9",
   "metadata": {},
   "outputs": [],
   "source": [
    "def DivideByTen(val): # Function that divides the input value by 10\n",
    "    return val / 10\n",
    "\n",
    "DivideByTen(100)"
   ]
  },
  {
   "cell_type": "code",
   "execution_count": null,
   "id": "2954ad13",
   "metadata": {},
   "outputs": [],
   "source": [
    "def divide (val1, val2):    \n",
    "    return val1 / val2"
   ]
  },
  {
   "cell_type": "code",
   "execution_count": null,
   "id": "a56f7fba",
   "metadata": {},
   "outputs": [],
   "source": [
    "# Function with one argument and a return value\n",
    "def aFunction(anArg):\n",
    "    return anArg + 1\n",
    "\n",
    "aFunction(5)"
   ]
  },
  {
   "cell_type": "code",
   "execution_count": null,
   "id": "61df85dc",
   "metadata": {},
   "outputs": [],
   "source": [
    "# Different ways of calling a function with a keyword argument\n",
    "def aFunction(anArg, optionalArg=1): # optionalArg has a default value of 1\n",
    "    return anArg + optionalArg # Return the sum of anArg and optionalArg\n",
    "\n",
    "print(aFunction(5))\n",
    "print(aFunction(5, 4))\n",
    "print(aFunction(5, optionalArg=4))"
   ]
  },
  {
   "cell_type": "markdown",
   "id": "6a748172",
   "metadata": {},
   "source": [
    "**Example****"
   ]
  },
  {
   "cell_type": "code",
   "execution_count": null,
   "id": "9d931164",
   "metadata": {},
   "outputs": [],
   "source": [
    "import math # Import the math module"
   ]
  },
  {
   "cell_type": "code",
   "execution_count": null,
   "id": "69fd4d29",
   "metadata": {},
   "outputs": [],
   "source": [
    "def performOperation(num1, num2, operation): # Function with multiple arguments\n",
    "    if operation == 'sum':\n",
    "        return num1 + num2\n",
    "    if operation == 'multiply':\n",
    "        return num1 * num2\n",
    "    if operation == 'divide':\n",
    "        if num2 == 0:\n",
    "            return 'Error: Division by zero'\n",
    "        return num1 / num2\n",
    "\n",
    "performOperation(10, 0, 'divide')"
   ]
  },
  {
   "cell_type": "markdown",
   "id": "40ef5db0",
   "metadata": {},
   "source": [
    "**Named Parameters**"
   ]
  },
  {
   "cell_type": "code",
   "execution_count": null,
   "id": "5cb3d103",
   "metadata": {},
   "outputs": [],
   "source": [
    "def performOperation(num1, num2, operation='sum'):\n",
    "    if operation == 'sum':\n",
    "        return num1 + num2\n",
    "    if operation == 'multiply':\n",
    "        return num1 * num2\n",
    "    \n",
    "performOperation(2, 3)"
   ]
  },
  {
   "cell_type": "code",
   "execution_count": null,
   "id": "008636ef",
   "metadata": {},
   "outputs": [],
   "source": [
    "def performOperation(num1, num2, operation='sum', message='Default message'):\n",
    "    print(message)\n",
    "    if operation == 'sum':\n",
    "        return num1 + num2\n",
    "    if operation == 'multiply':\n",
    "        return num1 * num2\n",
    "    \n",
    "performOperation(2, 3, message='A new message!', operation='multiply')"
   ]
  },
  {
   "cell_type": "markdown",
   "id": "ff7ed150",
   "metadata": {},
   "source": [
    "**Positioning Arguments**"
   ]
  },
  {
   "cell_type": "code",
   "execution_count": null,
   "id": "bd72530b",
   "metadata": {},
   "outputs": [],
   "source": [
    "def performOperation(*args):\n",
    "    print(args)\n",
    "    \n",
    "performOperation(1,2,3)"
   ]
  },
  {
   "cell_type": "markdown",
   "id": "9b605de5",
   "metadata": {},
   "source": [
    "**Keyword Arguments**"
   ]
  },
  {
   "cell_type": "code",
   "execution_count": null,
   "id": "bc80c121",
   "metadata": {},
   "outputs": [],
   "source": [
    "def performOperation(*args, **kwargs):\n",
    "    print(args)\n",
    "    print(kwargs)\n",
    "performOperation(1,2,3, operation='sum')"
   ]
  },
  {
   "cell_type": "code",
   "execution_count": null,
   "id": "683c9675",
   "metadata": {},
   "outputs": [],
   "source": [
    "def performOperation(*args, operation='sum'):\n",
    "    if operation == 'sum':\n",
    "        return sum(args)\n",
    "    if operation == 'multiply':\n",
    "        return math.prod(args)\n",
    "    \n",
    "performOperation(1,2,3,6, 7, 8, operation='sum')"
   ]
  },
  {
   "cell_type": "markdown",
   "id": "13ba4e6c",
   "metadata": {},
   "source": [
    "## Classes"
   ]
  },
  {
   "cell_type": "code",
   "execution_count": null,
   "id": "514f3b37",
   "metadata": {},
   "outputs": [
    {
     "name": "stdout",
     "output_type": "stream",
     "text": [
      "Toyota Corolla says: Beep!\n"
     ]
    }
   ],
   "source": [
    "class Car:\n",
    "    def __init__(self, make, model): # Constructor to initialize make and model\n",
    "        self.make = make\n",
    "        self.model = model\n",
    "        self.wheels = 4\n",
    "\n",
    "    def honk(self): ## Method to simulate honking\n",
    "        print(self.make + ' ' + self.model + ' says: Beep!')\n",
    "        \n",
    "my_car = Car('Toyota', 'Corolla') ## Create an instance of the Car class\n",
    "my_car.honk() ## Call the honk method"
   ]
  },
  {
   "cell_type": "code",
   "execution_count": null,
   "id": "95692053",
   "metadata": {},
   "outputs": [
    {
     "name": "stdout",
     "output_type": "stream",
     "text": [
      "Value for the class attribute \"val\"\n"
     ]
    }
   ],
   "source": [
    "# A simple class with one attribute and one method\n",
    "class ParentClass:\n",
    "    def __init__(self, val):\n",
    "        self.val = val\n",
    "        \n",
    "    def printVal(self):\n",
    "        print(self.val)\n",
    "        \n",
    "\n",
    "classInstance = ParentClass('Value for the class attribute \"val\"')\n",
    "classInstance.printVal()"
   ]
  },
  {
   "cell_type": "code",
   "execution_count": null,
   "id": "3958b363",
   "metadata": {},
   "outputs": [
    {
     "ename": "NameError",
     "evalue": "name 'parentClass' is not defined",
     "output_type": "error",
     "traceback": [
      "\u001b[31m---------------------------------------------------------------------------\u001b[39m",
      "\u001b[31mNameError\u001b[39m                                 Traceback (most recent call last)",
      "\u001b[36mCell\u001b[39m\u001b[36m \u001b[39m\u001b[32mIn[5]\u001b[39m\u001b[32m, line 2\u001b[39m\n\u001b[32m      1\u001b[39m \u001b[38;5;66;03m# Extend the parent class to create a child class        \u001b[39;00m\n\u001b[32m----> \u001b[39m\u001b[32m2\u001b[39m \u001b[38;5;28;01mclass\u001b[39;00m\u001b[38;5;250m \u001b[39m\u001b[34;01mChildClass\u001b[39;00m(\u001b[43mparentClass\u001b[49m):\n\u001b[32m      4\u001b[39m     \u001b[38;5;28;01mdef\u001b[39;00m\u001b[38;5;250m \u001b[39m\u001b[34mprintVal\u001b[39m(\u001b[38;5;28mself\u001b[39m):\n\u001b[32m      5\u001b[39m         \u001b[38;5;28mprint\u001b[39m(\u001b[33m'\u001b[39m\u001b[33mChild class! \u001b[39m\u001b[38;5;132;01m{}\u001b[39;00m\u001b[33m'\u001b[39m.format(\u001b[38;5;28mself\u001b[39m.val))\n",
      "\u001b[31mNameError\u001b[39m: name 'parentClass' is not defined"
     ]
    }
   ],
   "source": [
    "# Extend the parent class to create a child class        \n",
    "class ChildClass(parentClass):\n",
    "    \n",
    "    def printVal(self):\n",
    "        print('Child class! {}'.format(self.val))\n",
    "        \n",
    "childInstance = ChildClass('Value for the class attribute \"val\"')\n",
    "childInstance.printVal()   "
   ]
  },
  {
   "cell_type": "markdown",
   "id": "3768b6ef",
   "metadata": {},
   "source": [
    "**EXAMPLE**"
   ]
  },
  {
   "cell_type": "markdown",
   "id": "abfc073c",
   "metadata": {},
   "source": [
    "**Instance Attributes**"
   ]
  },
  {
   "cell_type": "code",
   "execution_count": null,
   "id": "fb7c3b3e",
   "metadata": {},
   "outputs": [],
   "source": [
    "class Dog:\n",
    "    def __init__(self, name):\n",
    "        self.name = name\n",
    "        self.legs = 4\n",
    "    \n",
    "    def speak(self):\n",
    "        print(self.name + ' says: Bark!')\n",
    "\n",
    "myDog = Dog('Rover')\n",
    "print(myDog.name)\n",
    "print(myDog.legs)"
   ]
  },
  {
   "cell_type": "code",
   "execution_count": null,
   "id": "02f4c24a",
   "metadata": {},
   "outputs": [],
   "source": [
    "Dog.legs"
   ]
  },
  {
   "cell_type": "markdown",
   "id": "70aafb38",
   "metadata": {},
   "source": [
    "**Static Attributes**"
   ]
  },
  {
   "cell_type": "code",
   "execution_count": null,
   "id": "33d544f8",
   "metadata": {},
   "outputs": [],
   "source": [
    "class Dog:\n",
    "    legs = 4 # Static attribute shared by all instances\n",
    "    def __init__(self, name):   # Constructor to initialize name\n",
    "        self.name = name\n",
    "    \n",
    "    def speak(self):\n",
    "        print(self.name + ' says: Bark!')\n",
    "\n",
    "myDog = Dog('Rover')\n",
    "print(myDog.name)\n",
    "print(myDog.legs)"
   ]
  },
  {
   "cell_type": "code",
   "execution_count": null,
   "id": "078234ea",
   "metadata": {},
   "outputs": [],
   "source": [
    "Dog.legs # Access static attribute via class name"
   ]
  },
  {
   "cell_type": "code",
   "execution_count": null,
   "id": "e58b8a70",
   "metadata": {},
   "outputs": [],
   "source": [
    "Dog.legs = 3 # Modify static attribute via class name"
   ]
  },
  {
   "cell_type": "code",
   "execution_count": null,
   "id": "e150104a",
   "metadata": {},
   "outputs": [],
   "source": [
    "myDog = Dog('Rover') # Create an instance of Dog\n",
    "print(myDog.name)\n",
    "print(myDog.legs)"
   ]
  },
  {
   "cell_type": "code",
   "execution_count": null,
   "id": "c8f62356",
   "metadata": {},
   "outputs": [],
   "source": [
    "class Dog:\n",
    "    _legs = 4\n",
    "    def __init__(self, name):\n",
    "        self.name = name\n",
    "        \n",
    "    def getLegs(self):\n",
    "        return self._legs\n",
    "    \n",
    "    def speak(self):\n",
    "        print(self.name + ' says: Bark!')\n",
    "\n",
    "myDog = Dog('Rover')\n",
    "print(myDog.name)\n",
    "print(myDog.getLegs())"
   ]
  },
  {
   "cell_type": "markdown",
   "id": "84b77f13",
   "metadata": {},
   "source": [
    "## While Loops with Date & Time (Break, Pass, Continue)"
   ]
  },
  {
   "cell_type": "code",
   "execution_count": null,
   "id": "5c7da36b",
   "metadata": {},
   "outputs": [],
   "source": [
    "from datetime import datetime # Import datetime module"
   ]
  },
  {
   "cell_type": "markdown",
   "id": "86276034",
   "metadata": {},
   "source": [
    "**Note**: This notebook has been modified from what is shown in the video. In order to prevent bugs when the current time ends in 58 or 59 seconds, the following line:\n",
    "\n",
    "<code>wait_until = datetime.now().second + 2</code>\n",
    "\n",
    "has been changed to \n",
    "\n",
    "<code>wait_until = (datetime.now().second + 2) % 60</code>\n",
    "\n",
    "where it appears in the code samples"
   ]
  },
  {
   "cell_type": "code",
   "execution_count": null,
   "id": "addac2a8",
   "metadata": {},
   "outputs": [],
   "source": [
    "datetime.now().second"
   ]
  },
  {
   "cell_type": "code",
   "execution_count": null,
   "id": "0c42d077",
   "metadata": {},
   "outputs": [],
   "source": [
    "wait_until = (datetime.now().second + 2) % 60 ## Wait until 2 seconds from now\n",
    "\n",
    "while datetime.now().second != wait_until: # Wait until the current second matches wait_until\n",
    "    print('Still waiting!')\n",
    "    \n",
    "print(f'We are at {wait_until} seconds!')"
   ]
  },
  {
   "cell_type": "markdown",
   "id": "5a1d68a8",
   "metadata": {},
   "source": [
    "**Pass**"
   ]
  },
  {
   "cell_type": "code",
   "execution_count": null,
   "id": "aef3a07b",
   "metadata": {},
   "outputs": [],
   "source": [
    "wait_until = (datetime.now().second + 2) % 60\n",
    "\n",
    "while datetime.now().second != wait_until: # Wait until the current second matches wait_until\n",
    "    pass\n",
    "    \n",
    "print(f'We are at {wait_until} seconds!')"
   ]
  },
  {
   "cell_type": "markdown",
   "id": "b5a384c3",
   "metadata": {},
   "source": [
    "**Break**"
   ]
  },
  {
   "cell_type": "code",
   "execution_count": null,
   "id": "1501950e",
   "metadata": {},
   "outputs": [],
   "source": [
    "wait_until = (datetime.now().second + 2) % 60\n",
    "\n",
    "while True:\n",
    "    if datetime.now().second == wait_until:\n",
    "        print(f'We are at {wait_until} seconds!')\n",
    "        break"
   ]
  },
  {
   "cell_type": "markdown",
   "id": "fe10e021",
   "metadata": {},
   "source": [
    "**Continue**"
   ]
  },
  {
   "cell_type": "code",
   "execution_count": null,
   "id": "2139a420",
   "metadata": {},
   "outputs": [],
   "source": [
    "wait_until = (datetime.now().second + 2) % 60\n",
    "\n",
    "while datetime.now().second != wait_until: # Wait until the current second matches wait_until\n",
    "    continue   # Just continue to the next iteration\n",
    "    print('Still waiting!')\n",
    "    \n",
    "    \n",
    "print(f'We are at {wait_until} seconds!') "
   ]
  },
  {
   "cell_type": "code",
   "execution_count": null,
   "id": "f980091f",
   "metadata": {},
   "outputs": [],
   "source": []
  },
  {
   "cell_type": "markdown",
   "id": "806fdfc0",
   "metadata": {},
   "source": [
    "## Arguments & Loops"
   ]
  },
  {
   "cell_type": "markdown",
   "id": "f9cbf4e9",
   "metadata": {},
   "source": [
    "**For Loops**"
   ]
  },
  {
   "cell_type": "code",
   "execution_count": null,
   "id": "a342e1be",
   "metadata": {},
   "outputs": [],
   "source": [
    "myList = [1,2,3,4]\n",
    "for item in myList:\n",
    "    print(item)"
   ]
  },
  {
   "cell_type": "code",
   "execution_count": null,
   "id": "1d91402c",
   "metadata": {},
   "outputs": [],
   "source": [
    "for g in range(15):\n",
    "    print(g)"
   ]
  },
  {
   "cell_type": "code",
   "execution_count": null,
   "id": "0d941762",
   "metadata": {},
   "outputs": [],
   "source": [
    "for i in range(100):\n",
    "    print(i)"
   ]
  },
  {
   "cell_type": "markdown",
   "id": "f9ee0fde",
   "metadata": {},
   "source": [
    "**Postioning Argument**"
   ]
  },
  {
   "cell_type": "code",
   "execution_count": null,
   "id": "36eaee88",
   "metadata": {},
   "outputs": [
    {
     "name": "stdout",
     "output_type": "stream",
     "text": [
      "100\n"
     ]
    }
   ],
   "source": [
    "def WhatIsX(x):\n",
    "    return x**2\n",
    "\n",
    "print(WhatIsX(10))   \n"
   ]
  },
  {
   "cell_type": "markdown",
   "id": "cba1487a",
   "metadata": {},
   "source": [
    "**Positioning Argument with While Loop & Function**"
   ]
  },
  {
   "cell_type": "code",
   "execution_count": null,
   "id": "858dce7f",
   "metadata": {},
   "outputs": [
    {
     "name": "stdout",
     "output_type": "stream",
     "text": [
      "The square of 1 is 1\n",
      "The square of 2 is 4\n",
      "The square of 3 is 9\n",
      "The square of 4 is 16\n",
      "The square of 5 is 25\n",
      "The square of 6 is 36\n",
      "The square of 7 is 49\n",
      "The square of 8 is 64\n",
      "The square of 9 is 81\n",
      "The square of 10 is 100\n",
      "The square of 11 is 121\n",
      "The square of 12 is 144\n",
      "The square of 13 is 169\n",
      "The square of 14 is 196\n",
      "The square of 15 is 225\n",
      "The square of 16 is 256\n",
      "The square of 17 is 289\n",
      "The square of 18 is 324\n",
      "The square of 19 is 361\n",
      "The square of 20 is 400\n",
      "The square of 21 is 441\n",
      "The square of 22 is 484\n",
      "The square of 23 is 529\n",
      "The square of 24 is 576\n",
      "The square of 25 is 625\n"
     ]
    }
   ],
   "source": [
    "def WhatIsX(x):\n",
    "    return x**2\n",
    "\n",
    "num = 1  # start at 1\n",
    "while num <= 25:   # keep going until 10\n",
    "    print(f\"The square of {num} is {WhatIsX(num)}\")\n",
    "    num += 1   # increase by 1 each loop\n"
   ]
  },
  {
   "cell_type": "markdown",
   "id": "9dcd8643",
   "metadata": {},
   "source": [
    "**Defining Function, Establishing Parameter, & Control Flow**"
   ]
  },
  {
   "cell_type": "code",
   "execution_count": null,
   "id": "4a9e267f",
   "metadata": {},
   "outputs": [],
   "source": [
    "def third_down (yards_to_go):\n",
    "    if yards_to_go >= 10:\n",
    "        return \"Pass\"\n",
    "    elif 5 <= yards_to_go < 10:\n",
    "        return \"Run\"\n",
    "    elif 1 <= yards_to_go < 5:\n",
    "        return \"Run\"\n",
    "    elif yards_to_go == 0:\n",
    "        return \"Go for it!\"\n",
    "    else:\n",
    "        return \"Invalid input\""
   ]
  },
  {
   "cell_type": "markdown",
   "id": "c2b8e18b",
   "metadata": {},
   "source": [
    "**List, For Loop, Control Flow**"
   ]
  },
  {
   "cell_type": "code",
   "execution_count": null,
   "id": "de00169a",
   "metadata": {},
   "outputs": [
    {
     "name": "stdout",
     "output_type": "stream",
     "text": [
      " How is your Monday going? \n",
      "Hope your workday is going well!\n",
      " How is your Tuesday going? \n",
      "Hope your workday is going well!\n",
      " How is your Wednesday going? \n",
      "Hope your workday is going well!\n",
      " How is your Thursday going? \n",
      "Hope your workday is going well!\n",
      " How is your Friday going? \n",
      "Hope your workday is going well!\n",
      " How is your Saturday going? \n",
      "Enjoy your weekend!\n",
      " How is your Sunday going? \n",
      "Enjoy your weekend!\n"
     ]
    }
   ],
   "source": [
    "##List: keeps order, allows duplicates\n",
    "\n",
    "## Days of the week\n",
    "days = [\"Monday\", \"Tuesday\", \"Wednesday\", \"Thursday\", \"Friday\", \"Saturday\", \"Sunday\"]\n",
    "\n",
    "#Output request\n",
    "for day in days:\n",
    "    print(f' How is your {day} going? ')\n",
    "    \n",
    "#Conditionasl statements\n",
    "    if day in [\"Monday\", \"Tuesday\", \"Wednesday\", \"Thursday\", \"Friday\"]:\n",
    "        print(\"Hope your workday is going well!\")\n",
    "    else:\n",
    "        print(\"Enjoy your weekend!\")"
   ]
  },
  {
   "cell_type": "markdown",
   "id": "d31a3a23",
   "metadata": {},
   "source": [
    "**Loops: For & While**"
   ]
  },
  {
   "cell_type": "code",
   "execution_count": null,
   "id": "2d908197",
   "metadata": {},
   "outputs": [
    {
     "name": "stdout",
     "output_type": "stream",
     "text": [
      "Mon\n",
      "Tue\n",
      "Wed\n",
      "Mon\n",
      "Tue\n",
      "Wed\n"
     ]
    }
   ],
   "source": [
    "# For loop: cycles through each day\n",
    "days = [\"Mon\", \"Tue\", \"Wed\"]\n",
    "for day in days:\n",
    "    print(day)\n",
    "\n",
    "# While loop: stops when condition is false\n",
    "count = 0\n",
    "while count < 3:\n",
    "    print(days[count])\n",
    "    count += 1\n"
   ]
  },
  {
   "cell_type": "markdown",
   "id": "c676b39f",
   "metadata": {},
   "source": [
    "**Set (no order, no duplicates)**"
   ]
  },
  {
   "cell_type": "markdown",
   "id": "5ce4168b",
   "metadata": {},
   "source": [
    "**Nested Loop: For Loop in a For Loop**"
   ]
  },
  {
   "cell_type": "code",
   "execution_count": null,
   "id": "702fd416",
   "metadata": {},
   "outputs": [
    {
     "name": "stdout",
     "output_type": "stream",
     "text": [
      "1 * 1 = 1\n",
      "1 * 2 = 2\n",
      "1 * 3 = 3\n",
      "1 * 4 = 4\n",
      "1 * 5 = 5\n",
      "\n",
      "2 * 1 = 2\n",
      "2 * 2 = 4\n",
      "2 * 3 = 6\n",
      "2 * 4 = 8\n",
      "2 * 5 = 10\n",
      "\n",
      "3 * 1 = 3\n",
      "3 * 2 = 6\n",
      "3 * 3 = 9\n",
      "3 * 4 = 12\n",
      "3 * 5 = 15\n",
      "\n",
      "4 * 1 = 4\n",
      "4 * 2 = 8\n",
      "4 * 3 = 12\n",
      "4 * 4 = 16\n",
      "4 * 5 = 20\n",
      "\n",
      "5 * 1 = 5\n",
      "5 * 2 = 10\n",
      "5 * 3 = 15\n",
      "5 * 4 = 20\n",
      "5 * 5 = 25\n",
      "\n"
     ]
    }
   ],
   "source": [
    "def multiplication_table(n):\n",
    "    for i in range(1, n+1):\n",
    "        for j in range(1, n+1):\n",
    "            print(f\"{i} * {j} = {i * j}\")\n",
    "        print()  # Newline after each row\n",
    "\n",
    "multiplication_table(5)"
   ]
  },
  {
   "cell_type": "markdown",
   "id": "be4dd7e6",
   "metadata": {},
   "source": [
    "## API Request"
   ]
  },
  {
   "cell_type": "markdown",
   "id": "fdaba79a",
   "metadata": {},
   "source": [
    "**Public API Request**"
   ]
  },
  {
   "cell_type": "code",
   "execution_count": null,
   "id": "b3023dfd",
   "metadata": {},
   "outputs": [
    {
     "ename": "_IncompleteInputError",
     "evalue": "incomplete input (1746703956.py, line 10)",
     "output_type": "error",
     "traceback": [
      "  \u001b[36mCell\u001b[39m\u001b[36m \u001b[39m\u001b[32mIn[81]\u001b[39m\u001b[32m, line 10\u001b[39m\n\u001b[31m    \u001b[39m\u001b[31mprint(\"Status code:\", respon\u001b[39m\n                                ^\n\u001b[31m_IncompleteInputError\u001b[39m\u001b[31m:\u001b[39m incomplete input\n"
     ]
    }
   ],
   "source": [
    "import requests\n",
    "\n",
    "# Make a GET request to a public API\n",
    "response = requests.get(\"https://chatgpt.com/\")\n",
    "\n",
    "# Print the status codese.status_code)\n",
    "\n",
    "# Print the JSON data (if available)\n",
    "print(\"Response JSON:\", response.json())\n",
    "print(\"Status code:\", respon\n"
   ]
  },
  {
   "cell_type": "markdown",
   "id": "3596bbca",
   "metadata": {},
   "source": [
    "## Creating Dataframe | Table from Dictionary"
   ]
  },
  {
   "cell_type": "code",
   "execution_count": null,
   "id": "36a13baa",
   "metadata": {},
   "outputs": [
    {
     "name": "stdout",
     "output_type": "stream",
     "text": [
      "      Name  Age         City\n",
      "0    Alice   25     New York\n",
      "1      Bob   30  Los Angeles\n",
      "2  Charlie   35      Chicago\n",
      "This script is being run directly.\n"
     ]
    }
   ],
   "source": [
    "import numpy as np\n",
    "import pandas as pd\n",
    "\n",
    "# Create a simple DataFrame\n",
    "data = {\n",
    "    \"Name\": [\"Alice\", \"Bob\", \"Charlie\"],\n",
    "    \"Age\": [25, 30, 35],\n",
    "    \"City\": [\"New York\", \"Los Angeles\", \"Chicago\"]\n",
    "}\n",
    "\n",
    "df = pd.DataFrame(data)\n",
    "\n",
    "# Display the DataFrame\n",
    "print(df)\n",
    "if __name__ == \"__main__\":\n",
    "    print(\"This script is being run directly.\")\n"
   ]
  },
  {
   "cell_type": "markdown",
   "id": "f42ccfba",
   "metadata": {},
   "source": [
    "## File Handling (CSV)"
   ]
  },
  {
   "cell_type": "markdown",
   "id": "ad963388",
   "metadata": {},
   "source": [
    "**CSV**"
   ]
  },
  {
   "cell_type": "markdown",
   "id": "7f543d99",
   "metadata": {},
   "source": [
    "**Reading**"
   ]
  },
  {
   "cell_type": "code",
   "execution_count": null,
   "id": "d57164c7",
   "metadata": {},
   "outputs": [],
   "source": [
    "with open('10_02_us.csv', 'r') as f:\n",
    "    reader = csv.reader(f, delimiter='\\t') # Create a CSV reader object\n",
    "    for row in reader:\n",
    "        print(row)"
   ]
  },
  {
   "cell_type": "code",
   "execution_count": null,
   "id": "b69d2f97",
   "metadata": {},
   "outputs": [],
   "source": [
    "with open('10_02_us.csv', 'r') as f: # Open the CSV file for reading\n",
    "    reader = csv.reader(f, delimiter='\\t') # Create a CSV reader object\n",
    "    next(reader) # Skip the header row\n",
    "    next(reader) # Skip the second row\n",
    "    for row in reader: # Iterate through the remaining rows\n",
    "        print(row)"
   ]
  },
  {
   "cell_type": "code",
   "execution_count": null,
   "id": "b63166d8",
   "metadata": {},
   "outputs": [],
   "source": [
    "with open('10_02_us.csv', 'r') as f:\n",
    "    reader = list(csv.reader(f, delimiter='\\t')) # Convert reader to a list\n",
    "    for row in reader[1:]:\n",
    "        print(row)"
   ]
  },
  {
   "cell_type": "code",
   "execution_count": null,
   "id": "85063864",
   "metadata": {},
   "outputs": [],
   "source": [
    "with open('10_02_us.csv', 'r') as f: \n",
    "    reader = csv.DictReader(f, delimiter='\\t') # Create a CSV DictReader object\n",
    "    for row in reader: # Iterate through each row as a dictionary\n",
    "        print(row)"
   ]
  },
  {
   "cell_type": "markdown",
   "id": "b12c491d",
   "metadata": {},
   "source": [
    "**Filtering the Data**"
   ]
  },
  {
   "cell_type": "code",
   "execution_count": null,
   "id": "28090f04",
   "metadata": {},
   "outputs": [],
   "source": [
    "with open('10_02_us.csv', 'r') as f: \n",
    "    data = list(csv.DictReader(f, delimiter='\\t')) # Convert DictReader to a list of dictionaries"
   ]
  },
  {
   "cell_type": "code",
   "execution_count": null,
   "id": "ab3d499f",
   "metadata": {},
   "outputs": [],
   "source": [
    "primes = []\n",
    "for number in range(2, 99999):\n",
    "    for factor in range(2, int(number**0.5) + 1): # Check for factors up to the square root of the number\n",
    "        if number % factor == 0: # If number is divisible by factor\n",
    "            break  # Not a prime number, exit the loop\n",
    "    else:\n",
    "        primes.append(number) # If no factors found, it's a prime number"
   ]
  },
  {
   "cell_type": "code",
   "execution_count": null,
   "id": "020c5a62",
   "metadata": {},
   "outputs": [],
   "source": [
    "data = [row for row in data if int(row['postal code']) in primes and row['state code'] == 'MA'] # Filter for rows with prime postal codes in MA\n",
    "len(data)"
   ]
  },
  {
   "cell_type": "markdown",
   "id": "c1ddcf60",
   "metadata": {},
   "source": [
    "**Writing**"
   ]
  },
  {
   "cell_type": "code",
   "execution_count": null,
   "id": "a5e551dc",
   "metadata": {},
   "outputs": [],
   "source": [
    "with open('10_02_ma_prime.csv', 'w') as f:\n",
    "    writer = csv.writer(f) # Create a CSV writer object\n",
    "    for row in data: # Iterate through the filtered data\n",
    "        writer.writerow([row['place name'], row['county']])"
   ]
  },
  {
   "cell_type": "markdown",
   "id": "d6433b9f",
   "metadata": {},
   "source": [
    "**OTHER EXAMPLES**"
   ]
  },
  {
   "cell_type": "code",
   "execution_count": 82,
   "id": "5f0365dd",
   "metadata": {},
   "outputs": [],
   "source": [
    "with open('test.txt', 'w') as f:\n",
    "    f.write('Writing a new line\\n')"
   ]
  },
  {
   "cell_type": "code",
   "execution_count": 83,
   "id": "fbfc5cff",
   "metadata": {},
   "outputs": [],
   "source": [
    "with open('test.txt', 'a') as f:\n",
    "    f.write('Adding a new line to the last one\\n')"
   ]
  },
  {
   "cell_type": "markdown",
   "id": "8a33b63c",
   "metadata": {},
   "source": [
    "## File Handling (JSON)"
   ]
  },
  {
   "cell_type": "code",
   "execution_count": null,
   "id": "dd83c61c",
   "metadata": {},
   "outputs": [],
   "source": [
    "import json # Import the JSON module\n",
    "from json import JSONDecodeError, JSONEncoder # Import specific classes from the JSON module"
   ]
  },
  {
   "cell_type": "markdown",
   "id": "7485868a",
   "metadata": {},
   "source": [
    "**Loading JSON**"
   ]
  },
  {
   "cell_type": "code",
   "execution_count": null,
   "id": "fe240088",
   "metadata": {},
   "outputs": [],
   "source": [
    "jsonString = '{\"a\": \"apple\", \"b\": \"bear\", \"c\": \"cat\",}' # A JSON string with a trailing comma\n",
    "try:\n",
    "    json.loads(jsonString) # Attempt to parse the JSON string\n",
    "except JSONDecodeError:\n",
    "    print('Could not parse JSON!')"
   ]
  },
  {
   "cell_type": "code",
   "execution_count": null,
   "id": "2042bf31",
   "metadata": {},
   "outputs": [],
   "source": [
    "{'a': 'apple', 'b': 'bear', 'c': 'cat',}"
   ]
  },
  {
   "cell_type": "markdown",
   "id": "bcf604e7",
   "metadata": {},
   "source": [
    "**Dumping JSON**"
   ]
  },
  {
   "cell_type": "code",
   "execution_count": null,
   "id": "269a9690",
   "metadata": {},
   "outputs": [],
   "source": [
    "pythonDict = {'a': 'apple', 'b': 'bear', 'c': 'cat',}\n",
    "json.dumps(pythonDict) # Convert the Python dictionary to a JSON string"
   ]
  },
  {
   "cell_type": "markdown",
   "id": "d2fba443",
   "metadata": {},
   "source": [
    "**Custom JSON Decoders**"
   ]
  },
  {
   "cell_type": "code",
   "execution_count": 84,
   "id": "1afd00df",
   "metadata": {},
   "outputs": [
    {
     "ename": "NameError",
     "evalue": "name 'JSONEncoder' is not defined",
     "output_type": "error",
     "traceback": [
      "\u001b[31m---------------------------------------------------------------------------\u001b[39m",
      "\u001b[31mNameError\u001b[39m                                 Traceback (most recent call last)",
      "\u001b[36mCell\u001b[39m\u001b[36m \u001b[39m\u001b[32mIn[84]\u001b[39m\u001b[32m, line 5\u001b[39m\n\u001b[32m      2\u001b[39m     \u001b[38;5;28;01mdef\u001b[39;00m\u001b[38;5;250m \u001b[39m\u001b[34m__init__\u001b[39m(\u001b[38;5;28mself\u001b[39m, name):\n\u001b[32m      3\u001b[39m         \u001b[38;5;28mself\u001b[39m.name = name\n\u001b[32m----> \u001b[39m\u001b[32m5\u001b[39m \u001b[38;5;28;01mclass\u001b[39;00m\u001b[38;5;250m \u001b[39m\u001b[34;01mAnimalEncoder\u001b[39;00m(\u001b[43mJSONEncoder\u001b[49m):\n\u001b[32m      6\u001b[39m     \u001b[38;5;28;01mdef\u001b[39;00m\u001b[38;5;250m \u001b[39m\u001b[34mdefault\u001b[39m(\u001b[38;5;28mself\u001b[39m, o):\n\u001b[32m      7\u001b[39m         \u001b[38;5;28;01mif\u001b[39;00m \u001b[38;5;28mtype\u001b[39m(o) == Animal:\n",
      "\u001b[31mNameError\u001b[39m: name 'JSONEncoder' is not defined"
     ]
    }
   ],
   "source": [
    "class Animal:\n",
    "    def __init__(self, name):\n",
    "        self.name = name\n",
    "\n",
    "class AnimalEncoder(JSONEncoder):\n",
    "    def default(self, o):\n",
    "        if type(o) == Animal:\n",
    "            return o.name\n",
    "        return super().default(o)\n",
    "    \n",
    "pythonDict = {'a': Animal('aardvark'), 'b': Animal('bear'), 'c': Animal('cat'),}\n",
    "json.dumps(pythonDict, cls=AnimalEncoder)"
   ]
  },
  {
   "cell_type": "markdown",
   "id": "e1b9d4ac",
   "metadata": {},
   "source": [
    "## Command Line Interface (CLI) Program"
   ]
  },
  {
   "cell_type": "code",
   "execution_count": null,
   "id": "55eb2781",
   "metadata": {},
   "outputs": [],
   "source": [
    "from argparse import ArgumentParser  # Import ArgumentParser from argparse module\n",
    "\n",
    "parser = ArgumentParser() # Create an ArgumentParser object\n",
    "\n",
    "parser.add_argument('--output', '-o', required=True, help='The destination file for the output of this program') # Add an argument for the output file\n",
    "parser.add_argument('--text', '-t', required=True, help='The text to write to the file') # Add an argument for the text to write\n",
    "\n",
    "\n",
    "args = parser.parse_args() # Parse the command line arguments\n",
    "\n",
    "with open(args.output, 'w') as f: # Open the output file for writing\n",
    "    f.write(args.text+'\\n') # Write the text to the file\n",
    "\n",
    "print(f'Wrote \"{args.text}\" to file \"{args.output}\"') # Print a confirmation message"
   ]
  }
 ],
 "metadata": {
  "kernelspec": {
   "display_name": "Python 3",
   "language": "python",
   "name": "python3"
  },
  "language_info": {
   "codemirror_mode": {
    "name": "ipython",
    "version": 3
   },
   "file_extension": ".py",
   "mimetype": "text/x-python",
   "name": "python",
   "nbconvert_exporter": "python",
   "pygments_lexer": "ipython3",
   "version": "3.13.6"
  }
 },
 "nbformat": 4,
 "nbformat_minor": 5
}
